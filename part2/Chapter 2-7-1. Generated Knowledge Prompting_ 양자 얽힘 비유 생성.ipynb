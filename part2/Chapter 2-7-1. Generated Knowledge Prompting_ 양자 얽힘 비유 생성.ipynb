{
  "cells": [
    {
      "cell_type": "markdown",
      "metadata": {},
      "source": [
        "**Colab Link URL**\n",
        "- https://colab.research.google.com/drive/1rIgxpondzGJIg_lxqZTUzh-nvmT4xAnM?usp=sharing\n",
        "\n",
        "이 노트북은 [Google Colab](https://colab.research.google.com/)에서 실행하시기에 최적화되어있습니다.\n",
        "상기 URL을 이용해서 코드를 실행 해보세요."
      ]
    },
    {
      "cell_type": "code",
      "execution_count": 2,
      "metadata": {
        "executionInfo": {
          "elapsed": 7,
          "status": "ok",
          "timestamp": 1746101306026,
          "user": {
            "displayName": "Sungmin Han",
            "userId": "16133717747299446002"
          },
          "user_tz": -540
        },
        "id": "jG5LNak_vbwt"
      },
      "outputs": [],
      "source": [
        "import time\n",
        "import textwrap\n",
        "\n",
        "from openai import OpenAI, APIError, RateLimitError\n",
        "from google.colab import userdata"
      ]
    },
    {
      "cell_type": "code",
      "execution_count": 3,
      "metadata": {
        "executionInfo": {
          "elapsed": 2927,
          "status": "ok",
          "timestamp": 1746101309561,
          "user": {
            "displayName": "Sungmin Han",
            "userId": "16133717747299446002"
          },
          "user_tz": -540
        },
        "id": "RUtlN2z2vux7"
      },
      "outputs": [],
      "source": [
        "OPENAI_API_KEY = userdata.get(\"OPENAI_API_KEY\")\n",
        "if not OPENAI_API_KEY:\n",
        "    raise ValueError(\n",
        "        \"'OPENAI_API_KEY' 이름의 보안 비밀(Secret)이 Colab에 설정되지 않았습니다.\"\n",
        "    )\n",
        "client = OpenAI(api_key=OPENAI_API_KEY)"
      ]
    },
    {
      "cell_type": "code",
      "execution_count": 4,
      "metadata": {
        "executionInfo": {
          "elapsed": 8,
          "status": "ok",
          "timestamp": 1746101313383,
          "user": {
            "displayName": "Sungmin Han",
            "userId": "16133717747299446002"
          },
          "user_tz": -540
        },
        "id": "d1k3zKwEvxDc"
      },
      "outputs": [],
      "source": [
        "def call_openai_api(\n",
        "    messages: list[dict[str, str]], temperature: float = 0.7, model: str = \"gpt-4o\"\n",
        ") -> str:\n",
        "    completion = client.chat.completions.create(\n",
        "        model=model,\n",
        "        messages=messages,\n",
        "        temperature=temperature,\n",
        "    )\n",
        "    return completion.choices[0].message.content"
      ]
    },
    {
      "cell_type": "code",
      "execution_count": 18,
      "metadata": {
        "executionInfo": {
          "elapsed": 48,
          "status": "ok",
          "timestamp": 1746101558171,
          "user": {
            "displayName": "Sungmin Han",
            "userId": "16133717747299446002"
          },
          "user_tz": -540
        },
        "id": "wa3o15_Bvzfj"
      },
      "outputs": [],
      "source": [
        "quantum_context = \"\"\"\n",
        "양자 얽힘은 두 개 이상의 양자 입자가 서로 연결되어, 개별 입자의 상태를 측정하기 전까지는 확정되지 않지만, 한 입자의 상태를 측정하는 순간 다른 입자의 상태가 즉시, 거리에 상관없이 결정되는 기묘한 현상입니다. 마치 보이지 않는 끈으로 연결된 것처럼 행동합니다. 예를 들어, 얽힌 두 입자 A와 B가 있고 각각 스핀(회전 방향)이 위 또는 아래 상태를 가질 수 있다면, A의 스핀을 측정하여 '위'로 확인되는 순간, B의 스핀은 즉시 '아래'로 결정됩니다. 이는 두 입자가 우주 반대편에 떨어져 있어도 마찬가지입니다.\n",
        "\"\"\"\n",
        "\n",
        "prompt = f\"\"\"\n",
        "다음은 양자 얽힘 현상에 대한 기본적인 설명입니다:\n",
        "{quantum_context}\n",
        "\n",
        "위 설명을 바탕으로, '양자 얽힘' 현상을 10대 청소년이 쉽게 이해할 수 있도록 설명하는 창의적인 비유를 만들어주세요.\n",
        "\n",
        "비유를 만드는 과정을 다음 단계를 따라 생각하고 명확히 설명해주세요.\n",
        "1단계: 양자 얽힘의 핵심 특징(두 입자의 연결성, 한쪽 상태 결정 시 다른 쪽 즉시 결정, 거리 무관)을 요약한다.\n",
        "2단계: 10대가 공감하거나 흥미를 느낄 만한 일상적인 소재나 게임 등의 요소를 탐색한다.\n",
        "3단계: 탐색한 소재를 활용하여 양자 얽힘의 핵심 특징을 설명하는 비유를 구성한다.\n",
        "4단계: 완성된 비유를 10대 청소년의 말투로 친근하게 설명한다.\n",
        "\n",
        "최종적으로 단계별 설명과 완성된 비유 설명을 명확히 구분하여 제시해주세요.\n",
        "각 단계별로는 3줄의 \\n(줄 바꿈)으로 구분해주세요, 마크다운 없이 설명을 명시하세요.\n",
        "\"\"\""
      ]
    },
    {
      "cell_type": "code",
      "execution_count": 21,
      "metadata": {
        "colab": {
          "base_uri": "https://localhost:8080/"
        },
        "executionInfo": {
          "elapsed": 6249,
          "status": "ok",
          "timestamp": 1746102835325,
          "user": {
            "displayName": "Sungmin Han",
            "userId": "16133717747299446002"
          },
          "user_tz": -540
        },
        "id": "Yc-L5aBEv1ob",
        "outputId": "d3cea485-181e-4d3e-b95e-4056ab58f1d0"
      },
      "outputs": [
        {
          "name": "stdout",
          "output_type": "stream",
          "text": [
            "--- 양자 얽힘 비유 생성 ---\n",
            "1단계: 양자 얽힘의 핵심 특징 요약\n",
            "\n",
            "양자 얽힘은 두 입자가 보이지 않는 끈으로 연결된 것처럼 행동하는 현상입니다. 한 입자의 상태를 측정하면\n",
            "다른 입자의 상태가 즉시 결정됩니다. 이 연결은 두 입자가 얼마나 떨어져 있든 상관없이 유지됩니다.\n",
            "\n",
            "2단계: 10대가 공감할 수 있는 소재\n",
            "탐색\n",
            "\n",
            "10대들이 좋아하는 것은 스마트폰이나 온라인 게임입니다. 특히, 온라인 게임에서는 멀리 떨어져 있어도 함께 플레이할 수 있는 특징이\n",
            "있습니다. 친구와 함께하는 온라인 게임이나 소셜 미디어의 즉각적인 반응을 떠올려볼 수 있습니다.\n",
            "\n",
            "3단계: 비유 구성\n",
            "\n",
            "마치 친구와의 온라인\n",
            "게임에서 서로의 상태를 즉각적으로 알 수 있는 것과 같습니다. 게임 속에서 한 친구가 적을 물리치면, 다른 친구의 화면에도 즉시 그 변화가\n",
            "반영됩니다. 이때 서로 다른 장소에 있어도 연결되어 있는 것처럼 말입니다.\n",
            "\n",
            "4단계: 비유 설명\n",
            "\n",
            "양자 얽힘은 마치 친구와 온라인 게임을 할\n",
            "때랑 비슷해. 게임에서 너랑 친구가 멀리 떨어져 있어도, 너가 적을 물리치면 친구 화면에도 바로 그게 반영되잖아. 네가 뭐 했는지 친구가 바로\n",
            "알 수 있는 거지. 양자 얽힘도 그렇게 보이지 않는 끈으로 연결돼 있어서, 한 쪽이 변하면 다른 쪽도 바로 변하는 거야!\n",
            "--------------------------------------------------------------------------------\n"
          ]
        }
      ],
      "source": [
        "messages = [{\"role\": \"user\", \"content\": prompt}]\n",
        "generated_analogy = call_openai_api(messages, temperature=0.8)\n",
        "\n",
        "print(\"--- 양자 얽힘 비유 생성 ---\")\n",
        "wrapper = textwrap.TextWrapper(width=80, replace_whitespace=False)\n",
        "print(wrapper.fill(text=generated_analogy))\n",
        "print(\"-\" * 80)"
      ]
    },
    {
      "cell_type": "code",
      "execution_count": null,
      "metadata": {
        "id": "zevVb_-5v7Nn"
      },
      "outputs": [],
      "source": []
    }
  ],
  "metadata": {
    "colab": {
      "authorship_tag": "ABX9TyMuVSNGFeFtcPzrZCGes2BK",
      "provenance": []
    },
    "kernelspec": {
      "display_name": "Python 3",
      "name": "python3"
    },
    "language_info": {
      "name": "python"
    }
  },
  "nbformat": 4,
  "nbformat_minor": 0
}
