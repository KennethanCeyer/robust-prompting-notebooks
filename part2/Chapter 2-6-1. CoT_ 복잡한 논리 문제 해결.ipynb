{
  "cells": [
    {
      "cell_type": "markdown",
      "metadata": {},
      "source": [
        "**Colab Link URL**\n",
        "- https://colab.research.google.com/drive/1EbSuS0RNHzabcVvVR2SPpcT8dezgOHs0?usp=sharing\n",
        "\n",
        "이 노트북은 [Google Colab](https://colab.research.google.com/)에서 실행하시기에 최적화되어있습니다.\n",
        "상기 URL을 이용해서 코드를 실행 해보세요."
      ]
    },
    {
      "cell_type": "code",
      "execution_count": null,
      "metadata": {
        "id": "tN4f8gWAfSMJ"
      },
      "outputs": [],
      "source": [
        "import time\n",
        "\n",
        "from openai import OpenAI, APIError, RateLimitError\n",
        "from google.colab import userdata"
      ]
    },
    {
      "cell_type": "code",
      "execution_count": null,
      "metadata": {
        "id": "aucEz8Cyfdxr"
      },
      "outputs": [],
      "source": [
        "OPENAI_API_KEY = userdata.get(\"OPENAI_API_KEY\")\n",
        "if not OPENAI_API_KEY:\n",
        "    raise ValueError(\"'OPENAI_API_KEY' 이름의 보안 비밀이 설정되지 않았습니다.\")\n",
        "client = OpenAI(api_key=OPENAI_API_KEY)"
      ]
    },
    {
      "cell_type": "code",
      "execution_count": null,
      "metadata": {
        "id": "9wl6M0KEfiXw"
      },
      "outputs": [],
      "source": [
        "def call_openai_api(messages: list[str], temperature: float = 0.0) -> str:\n",
        "    max_retries = 3\n",
        "    for attempt in range(max_retries):\n",
        "        try:\n",
        "            completion = client.chat.completions.create(\n",
        "                model=\"gpt-4o\",\n",
        "                messages=messages,\n",
        "                temperature=temperature,\n",
        "            )\n",
        "            return completion.choices[0].message.content\n",
        "        except (APIError, RateLimitError) as e:\n",
        "            print(\n",
        "                f\"API 오류 발생 (시도 {attempt + 1}/{max_retries}): {e}. 잠시 후 재시도합니다...\"\n",
        "            )\n",
        "            if attempt == max_retries - 1:\n",
        "                return f\"오류: API 호출 실패 ({e})\"\n",
        "            time.sleep(2**attempt)\n",
        "        except Exception as e:\n",
        "            print(f\"알 수 없는 오류 발생: {e}\")\n",
        "            return f\"오류: {e}\"\n",
        "    return \"알 수 없는 오류로 응답 생성 실패\""
      ]
    },
    {
      "cell_type": "code",
      "execution_count": null,
      "metadata": {
        "id": "8SAL-ceMfoYw"
      },
      "outputs": [],
      "source": [
        "logical_problem = \"\"\"\n",
        "세 명의 친구, 지아, 민준, 서연이가 각자 다른 종류의 과일 주스를 샀습니다.\n",
        "주스 종류는 파인애플 주스, 바나나 주스, 딸기 주스 세 가지입니다.\n",
        "다음 단서들을 이용해 누가 어떤 주스를 샀는지 알아내세요.\n",
        "\n",
        "1. 서연이 산 주스에 사용한 과일의 한국어 이름은 민준이 산 과일 글자보다 크다.\n",
        "2. 지아가 산 주스의 과일은 민준이 산 주스의 과일보다 일반적으로 크기가 작다.\n",
        "3. 민준이 산 주스에 사용한 과일의 영어 이름에서 알파벳 모음 총 개수는 2보다 크다.\n",
        "\"\"\".strip()\n",
        "\n",
        "# 정답:\n",
        "# 지아 딸기\n",
        "# 민준 바나나\n",
        "# 서연 파인애플"
      ]
    },
    {
      "cell_type": "code",
      "execution_count": null,
      "metadata": {
        "colab": {
          "base_uri": "https://localhost:8080/"
        },
        "executionInfo": {
          "elapsed": 11661,
          "status": "ok",
          "timestamp": 1746033511221,
          "user": {
            "displayName": "Sungmin Han",
            "userId": "16133717747299446002"
          },
          "user_tz": -540
        },
        "id": "7aQ5XQ5Nfrj2",
        "outputId": "2a47a51d-ea9b-420d-c24f-6d39db93da26"
      },
      "outputs": [
        {
          "name": "stdout",
          "output_type": "stream",
          "text": [
            "--- 1. CoT가 사용되지 않은 프롬프트 방식 ---\n",
            "[CoT가 사용되지 않은 프롬프팅 결과]\n",
            "결과:\n",
            "지아: 딸기 주스\n",
            "민준: 파인애플 주스\n",
            "서연: 바나나 주스\n",
            "\n",
            "이유를 단계적으로 설명하겠습니다:\n",
            "\n",
            "1. **단서 3**을 먼저 살펴보겠습니다. 민준이 산 주스에 사용한 과일의 영어 이름에서 알파벳 모음의 개수가 2보다 커야 합니다.\n",
            "   - Pineapple (파인애플): 모음 4개 (i, e, a, e)\n",
            "   - Banana (바나나): 모음 3개 (a, a, a)\n",
            "   - Strawberry (딸기): 모음 2개 (a, e)\n",
            "\n",
            "   따라서, 민준은 파인애플 주스나 바나나 주스를 샀을 수 있습니다.\n",
            "\n",
            "2. **단서 1**을 살펴보겠습니다. 서연이 산 주스에 사용한 과일의 한국어 이름은 민준이 산 과일 이름보다 글자 수가 많아야 합니다.\n",
            "   - 파인애플 (5글자)\n",
            "   - 바나나 (3글자)\n",
            "   - 딸기 (2글자)\n",
            "\n",
            "   민준이 파인애플 주스를 샀다면, 서연은 바나나 주스를 살 수 있습니다. 민준이 바나나 주스를 샀다면, 서연은 파인애플 주스를 살 수 있습니다.\n",
            "\n",
            "3. **단서 2**를 살펴보겠습니다. 지아가 산 주스의 과일은 민준이 산 주스의 과일보다 일반적으로 크기가 작아야 합니다.\n",
            "   - 일반적으로 과일의 크기를 비교하면, 딸기 < 바나나 < 파인애플입니다.\n",
            "\n",
            "   따라서, 민준이 파인애플 주스를 샀다면, 지아는 딸기 주스를 살 수 있습니다. 민준이 바나나 주스를 샀다면, 지아는 딸기 주스를 살 수 있습니다.\n",
            "\n",
            "4. 모든 단서를 종합해보면:\n",
            "   - 민준이 파인애플 주스를 샀을 때, 서연은 바나나 주스를 사고, 지아는 딸기 주스를 사는 것이 모든 조건을 만족합니다.\n",
            "\n",
            "따라서, 최종적으로:\n",
            "- 지아: 딸기 주스\n",
            "- 민준: 파인애플 주스\n",
            "- 서연: 바나나 주스\n",
            "------------------------------\n"
          ]
        }
      ],
      "source": [
        "print(\"--- 1. CoT가 사용되지 않은 프롬프트 방식 ---\")\n",
        "previous_prompt = f\"\"\"\n",
        "다음 논리 문제를 풀어주세요:\n",
        "\n",
        "문제:\n",
        "{logical_problem}\n",
        "\n",
        "아래 결과를 먼저 설명하고, 그 뒤 그 이유를 단계적으로 설명하세요.\n",
        "지아: [과일 이름]\n",
        "민준: [과일 이름]\n",
        "서연: [과일 이름]\n",
        "\"\"\"\n",
        "\n",
        "standard_messages = [{\"role\": \"user\", \"content\": previous_prompt}]\n",
        "result_standard = call_openai_api(standard_messages, temperature=0)\n",
        "print(\"[CoT가 사용되지 않은 프롬프팅 결과]\")\n",
        "print(result_standard)\n",
        "print(\"-\" * 30)"
      ]
    },
    {
      "cell_type": "code",
      "execution_count": null,
      "metadata": {
        "colab": {
          "base_uri": "https://localhost:8080/"
        },
        "executionInfo": {
          "elapsed": 10133,
          "status": "ok",
          "timestamp": 1746033521356,
          "user": {
            "displayName": "Sungmin Han",
            "userId": "16133717747299446002"
          },
          "user_tz": -540
        },
        "id": "mfcDMoQkftTb",
        "outputId": "8bd92f38-8995-4641-eac9-ac6a66644a16"
      },
      "outputs": [
        {
          "name": "stdout",
          "output_type": "stream",
          "text": [
            "--- 2. Zero-Shot CoT 프롬프트 방식 ---\n",
            "\n",
            "[Zero-Shot CoT 프롬프팅 결과]\n",
            "이 문제를 해결하기 위해 주어진 단서를 단계별로 분석해 보겠습니다.\n",
            "\n",
            "1. **단서 1**: 서연이 산 주스에 사용한 과일의 한국어 이름은 민준이 산 과일 글자보다 크다.\n",
            "   - 과일 이름의 글자 수를 비교합니다.\n",
            "   - 파인애플(5글자), 바나나(3글자), 딸기(2글자)\n",
            "   - 따라서, 서연이 산 주스는 파인애플 주스일 가능성이 높습니다.\n",
            "\n",
            "2. **단서 2**: 지아가 산 주스의 과일은 민준이 산 주스의 과일보다 일반적으로 크기가 작다.\n",
            "   - 일반적인 과일 크기를 비교합니다.\n",
            "   - 딸기 < 바나나 < 파인애플\n",
            "   - 따라서, 지아가 산 주스는 딸기 주스일 가능성이 높습니다.\n",
            "\n",
            "3. **단서 3**: 민준이 산 주스에 사용한 과일의 영어 이름에서 알파벳 모음 총 개수는 2보다 크다.\n",
            "   - 영어 이름의 모음 개수를 세어봅니다.\n",
            "   - Pineapple (4개: i, e, a, e), Banana (3개: a, a, a), Strawberry (2개: a, e)\n",
            "   - 따라서, 민준이 산 주스는 바나나 주스일 가능성이 높습니다.\n",
            "\n",
            "이제 각 단서를 종합하여 결론을 내리겠습니다.\n",
            "\n",
            "- 서연: 파인애플 주스\n",
            "- 민준: 바나나 주스\n",
            "- 지아: 딸기 주스\n",
            "\n",
            "최종 답:\n",
            "지아: 딸기\n",
            "민준: 바나나\n",
            "서연: 파인애플\n",
            "------------------------------\n"
          ]
        }
      ],
      "source": [
        "print(\"--- 2. Zero-Shot CoT 프롬프트 방식 ---\")\n",
        "cot_prompt = f\"\"\"\n",
        "다음 논리 문제를 풀어주세요:\n",
        "\n",
        "문제:\n",
        "{logical_problem}\n",
        "\n",
        "단계별로 생각해서 각 단서를 어떻게 적용했는지 설명하고, 최종 답을 다음 형식으로 제시해주세요.\n",
        "지아: [과일 이름]\n",
        "민준: [과일 이름]\n",
        "서연: [과일 이름]\n",
        "\"\"\"\n",
        "cot_messages = [{\"role\": \"user\", \"content\": cot_prompt}]\n",
        "result_cot = call_openai_api(cot_messages, temperature=0)\n",
        "print(\"\\n[Zero-Shot CoT 프롬프팅 결과]\")\n",
        "print(result_cot)\n",
        "print(\"-\" * 30)"
      ]
    },
    {
      "cell_type": "code",
      "execution_count": null,
      "metadata": {
        "id": "YUMlqvN_fvmk"
      },
      "outputs": [],
      "source": []
    }
  ],
  "metadata": {
    "colab": {
      "authorship_tag": "ABX9TyMEpaJ8nNHv7qcvwwAD5Vtx",
      "provenance": []
    },
    "kernelspec": {
      "display_name": "Python 3",
      "name": "python3"
    },
    "language_info": {
      "name": "python"
    }
  },
  "nbformat": 4,
  "nbformat_minor": 0
}
