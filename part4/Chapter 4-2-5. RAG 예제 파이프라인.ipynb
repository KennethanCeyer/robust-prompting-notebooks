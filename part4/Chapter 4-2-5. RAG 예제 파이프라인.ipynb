{
  "cells": [
    {
      "cell_type": "markdown",
      "metadata": {},
      "source": [
        "**Colab Link URL**\n",
        "- https://colab.research.google.com/drive/1GGc1DPyNOquJ5hBpDDN3K4EK-vPyxyAB?usp=sharing\n",
        "\n",
        "이 노트북은 [Google Colab](https://colab.research.google.com/)에서 실행하시기에 최적화되어있습니다.\n",
        "상기 URL을 이용해서 코드를 실행 해보세요."
      ]
    },
    {
      "cell_type": "code",
      "execution_count": 34,
      "metadata": {
        "colab": {
          "base_uri": "https://localhost:8080/"
        },
        "executionInfo": {
          "elapsed": 9068,
          "status": "ok",
          "timestamp": 1753192401328,
          "user": {
            "displayName": "Sungmin Han",
            "userId": "16133717747299446002"
          },
          "user_tz": -540
        },
        "id": "h8oLa_dMSJHL",
        "outputId": "06cc86d4-f047-41f9-a3e5-19d01259196f"
      },
      "outputs": [
        {
          "name": "stdout",
          "output_type": "stream",
          "text": [
            "Requirement already satisfied: langchain in /usr/local/lib/python3.11/dist-packages (0.3.26)\n",
            "Requirement already satisfied: langchain-community in /usr/local/lib/python3.11/dist-packages (0.3.27)\n",
            "Requirement already satisfied: langchain-openai in /usr/local/lib/python3.11/dist-packages (0.3.28)\n",
            "Requirement already satisfied: pypdf in /usr/local/lib/python3.11/dist-packages (5.8.0)\n",
            "Requirement already satisfied: fpdf in /usr/local/lib/python3.11/dist-packages (1.7.2)\n",
            "Collecting faiss-cpu\n",
            "  Downloading faiss_cpu-1.11.0.post1-cp311-cp311-manylinux_2_27_x86_64.manylinux_2_28_x86_64.whl.metadata (5.0 kB)\n",
            "Requirement already satisfied: langchain-core<1.0.0,>=0.3.66 in /usr/local/lib/python3.11/dist-packages (from langchain) (0.3.69)\n",
            "Requirement already satisfied: langchain-text-splitters<1.0.0,>=0.3.8 in /usr/local/lib/python3.11/dist-packages (from langchain) (0.3.8)\n",
            "Requirement already satisfied: langsmith>=0.1.17 in /usr/local/lib/python3.11/dist-packages (from langchain) (0.4.7)\n",
            "Requirement already satisfied: pydantic<3.0.0,>=2.7.4 in /usr/local/lib/python3.11/dist-packages (from langchain) (2.11.7)\n",
            "Requirement already satisfied: SQLAlchemy<3,>=1.4 in /usr/local/lib/python3.11/dist-packages (from langchain) (2.0.41)\n",
            "Requirement already satisfied: requests<3,>=2 in /usr/local/lib/python3.11/dist-packages (from langchain) (2.32.3)\n",
            "Requirement already satisfied: PyYAML>=5.3 in /usr/local/lib/python3.11/dist-packages (from langchain) (6.0.2)\n",
            "Requirement already satisfied: aiohttp<4.0.0,>=3.8.3 in /usr/local/lib/python3.11/dist-packages (from langchain-community) (3.11.15)\n",
            "Requirement already satisfied: tenacity!=8.4.0,<10,>=8.1.0 in /usr/local/lib/python3.11/dist-packages (from langchain-community) (8.5.0)\n",
            "Requirement already satisfied: dataclasses-json<0.7,>=0.5.7 in /usr/local/lib/python3.11/dist-packages (from langchain-community) (0.6.7)\n",
            "Requirement already satisfied: pydantic-settings<3.0.0,>=2.4.0 in /usr/local/lib/python3.11/dist-packages (from langchain-community) (2.10.1)\n",
            "Requirement already satisfied: httpx-sse<1.0.0,>=0.4.0 in /usr/local/lib/python3.11/dist-packages (from langchain-community) (0.4.1)\n",
            "Requirement already satisfied: numpy>=1.26.2 in /usr/local/lib/python3.11/dist-packages (from langchain-community) (2.0.2)\n",
            "Requirement already satisfied: openai<2.0.0,>=1.86.0 in /usr/local/lib/python3.11/dist-packages (from langchain-openai) (1.97.0)\n",
            "Requirement already satisfied: tiktoken<1,>=0.7 in /usr/local/lib/python3.11/dist-packages (from langchain-openai) (0.9.0)\n",
            "Requirement already satisfied: packaging in /usr/local/lib/python3.11/dist-packages (from faiss-cpu) (25.0)\n",
            "Requirement already satisfied: aiohappyeyeballs>=2.3.0 in /usr/local/lib/python3.11/dist-packages (from aiohttp<4.0.0,>=3.8.3->langchain-community) (2.6.1)\n",
            "Requirement already satisfied: aiosignal>=1.1.2 in /usr/local/lib/python3.11/dist-packages (from aiohttp<4.0.0,>=3.8.3->langchain-community) (1.4.0)\n",
            "Requirement already satisfied: attrs>=17.3.0 in /usr/local/lib/python3.11/dist-packages (from aiohttp<4.0.0,>=3.8.3->langchain-community) (25.3.0)\n",
            "Requirement already satisfied: frozenlist>=1.1.1 in /usr/local/lib/python3.11/dist-packages (from aiohttp<4.0.0,>=3.8.3->langchain-community) (1.7.0)\n",
            "Requirement already satisfied: multidict<7.0,>=4.5 in /usr/local/lib/python3.11/dist-packages (from aiohttp<4.0.0,>=3.8.3->langchain-community) (6.6.3)\n",
            "Requirement already satisfied: propcache>=0.2.0 in /usr/local/lib/python3.11/dist-packages (from aiohttp<4.0.0,>=3.8.3->langchain-community) (0.3.2)\n",
            "Requirement already satisfied: yarl<2.0,>=1.17.0 in /usr/local/lib/python3.11/dist-packages (from aiohttp<4.0.0,>=3.8.3->langchain-community) (1.20.1)\n",
            "Requirement already satisfied: marshmallow<4.0.0,>=3.18.0 in /usr/local/lib/python3.11/dist-packages (from dataclasses-json<0.7,>=0.5.7->langchain-community) (3.26.1)\n",
            "Requirement already satisfied: typing-inspect<1,>=0.4.0 in /usr/local/lib/python3.11/dist-packages (from dataclasses-json<0.7,>=0.5.7->langchain-community) (0.9.0)\n",
            "Requirement already satisfied: jsonpatch<2.0,>=1.33 in /usr/local/lib/python3.11/dist-packages (from langchain-core<1.0.0,>=0.3.66->langchain) (1.33)\n",
            "Requirement already satisfied: typing-extensions>=4.7 in /usr/local/lib/python3.11/dist-packages (from langchain-core<1.0.0,>=0.3.66->langchain) (4.14.1)\n",
            "Requirement already satisfied: httpx<1,>=0.23.0 in /usr/local/lib/python3.11/dist-packages (from langsmith>=0.1.17->langchain) (0.28.1)\n",
            "Requirement already satisfied: orjson<4.0.0,>=3.9.14 in /usr/local/lib/python3.11/dist-packages (from langsmith>=0.1.17->langchain) (3.11.0)\n",
            "Requirement already satisfied: requests-toolbelt<2.0.0,>=1.0.0 in /usr/local/lib/python3.11/dist-packages (from langsmith>=0.1.17->langchain) (1.0.0)\n",
            "Requirement already satisfied: zstandard<0.24.0,>=0.23.0 in /usr/local/lib/python3.11/dist-packages (from langsmith>=0.1.17->langchain) (0.23.0)\n",
            "Requirement already satisfied: anyio<5,>=3.5.0 in /usr/local/lib/python3.11/dist-packages (from openai<2.0.0,>=1.86.0->langchain-openai) (4.9.0)\n",
            "Requirement already satisfied: distro<2,>=1.7.0 in /usr/local/lib/python3.11/dist-packages (from openai<2.0.0,>=1.86.0->langchain-openai) (1.9.0)\n",
            "Requirement already satisfied: jiter<1,>=0.4.0 in /usr/local/lib/python3.11/dist-packages (from openai<2.0.0,>=1.86.0->langchain-openai) (0.10.0)\n",
            "Requirement already satisfied: sniffio in /usr/local/lib/python3.11/dist-packages (from openai<2.0.0,>=1.86.0->langchain-openai) (1.3.1)\n",
            "Requirement already satisfied: tqdm>4 in /usr/local/lib/python3.11/dist-packages (from openai<2.0.0,>=1.86.0->langchain-openai) (4.67.1)\n",
            "Requirement already satisfied: annotated-types>=0.6.0 in /usr/local/lib/python3.11/dist-packages (from pydantic<3.0.0,>=2.7.4->langchain) (0.7.0)\n",
            "Requirement already satisfied: pydantic-core==2.33.2 in /usr/local/lib/python3.11/dist-packages (from pydantic<3.0.0,>=2.7.4->langchain) (2.33.2)\n",
            "Requirement already satisfied: typing-inspection>=0.4.0 in /usr/local/lib/python3.11/dist-packages (from pydantic<3.0.0,>=2.7.4->langchain) (0.4.1)\n",
            "Requirement already satisfied: python-dotenv>=0.21.0 in /usr/local/lib/python3.11/dist-packages (from pydantic-settings<3.0.0,>=2.4.0->langchain-community) (1.1.1)\n",
            "Requirement already satisfied: charset-normalizer<4,>=2 in /usr/local/lib/python3.11/dist-packages (from requests<3,>=2->langchain) (3.4.2)\n",
            "Requirement already satisfied: idna<4,>=2.5 in /usr/local/lib/python3.11/dist-packages (from requests<3,>=2->langchain) (3.10)\n",
            "Requirement already satisfied: urllib3<3,>=1.21.1 in /usr/local/lib/python3.11/dist-packages (from requests<3,>=2->langchain) (2.4.0)\n",
            "Requirement already satisfied: certifi>=2017.4.17 in /usr/local/lib/python3.11/dist-packages (from requests<3,>=2->langchain) (2025.7.14)\n",
            "Requirement already satisfied: greenlet>=1 in /usr/local/lib/python3.11/dist-packages (from SQLAlchemy<3,>=1.4->langchain) (3.2.3)\n",
            "Requirement already satisfied: regex>=2022.1.18 in /usr/local/lib/python3.11/dist-packages (from tiktoken<1,>=0.7->langchain-openai) (2024.11.6)\n",
            "Requirement already satisfied: httpcore==1.* in /usr/local/lib/python3.11/dist-packages (from httpx<1,>=0.23.0->langsmith>=0.1.17->langchain) (1.0.9)\n",
            "Requirement already satisfied: h11>=0.16 in /usr/local/lib/python3.11/dist-packages (from httpcore==1.*->httpx<1,>=0.23.0->langsmith>=0.1.17->langchain) (0.16.0)\n",
            "Requirement already satisfied: jsonpointer>=1.9 in /usr/local/lib/python3.11/dist-packages (from jsonpatch<2.0,>=1.33->langchain-core<1.0.0,>=0.3.66->langchain) (3.0.0)\n",
            "Requirement already satisfied: mypy-extensions>=0.3.0 in /usr/local/lib/python3.11/dist-packages (from typing-inspect<1,>=0.4.0->dataclasses-json<0.7,>=0.5.7->langchain-community) (1.1.0)\n",
            "Downloading faiss_cpu-1.11.0.post1-cp311-cp311-manylinux_2_27_x86_64.manylinux_2_28_x86_64.whl (31.3 MB)\n",
            "\u001b[2K   \u001b[90m━━━━━━━━━━━━━━━━━━━━━━━━━━━━━━━━━━━━━━━━\u001b[0m \u001b[32m31.3/31.3 MB\u001b[0m \u001b[31m60.4 MB/s\u001b[0m eta \u001b[36m0:00:00\u001b[0m\n",
            "\u001b[?25hInstalling collected packages: faiss-cpu\n",
            "Successfully installed faiss-cpu-1.11.0.post1\n"
          ]
        }
      ],
      "source": [
        "!pip install langchain langchain-community langchain-openai pypdf fpdf faiss-cpu"
      ]
    },
    {
      "cell_type": "code",
      "execution_count": 35,
      "metadata": {
        "colab": {
          "base_uri": "https://localhost:8080/"
        },
        "executionInfo": {
          "elapsed": 5648,
          "status": "ok",
          "timestamp": 1753192406978,
          "user": {
            "displayName": "Sungmin Han",
            "userId": "16133717747299446002"
          },
          "user_tz": -540
        },
        "id": "F9Gw4YD3ZR9Y",
        "outputId": "9d3baec6-bea0-46b3-b6e0-d5cbdcdd6548"
      },
      "outputs": [
        {
          "name": "stdout",
          "output_type": "stream",
          "text": [
            "Reading package lists... Done\n",
            "Building dependency tree... Done\n",
            "Reading state information... Done\n",
            "Note, selecting 'fonts-nanum-extra' for glob 'fonts-nanum*'\n",
            "Note, selecting 'fonts-nanum-coding' for glob 'fonts-nanum*'\n",
            "Note, selecting 'fonts-nanum-eco' for glob 'fonts-nanum*'\n",
            "Note, selecting 'fonts-nanum' for glob 'fonts-nanum*'\n",
            "fonts-nanum is already the newest version (20200506-1).\n",
            "fonts-nanum-coding is already the newest version (2.5-3).\n",
            "fonts-nanum-eco is already the newest version (1.000-7).\n",
            "fonts-nanum-extra is already the newest version (20200506-1).\n",
            "0 upgraded, 0 newly installed, 0 to remove and 35 not upgraded.\n"
          ]
        }
      ],
      "source": [
        "!apt-get install fonts-nanum* -y"
      ]
    },
    {
      "cell_type": "code",
      "execution_count": 36,
      "metadata": {
        "executionInfo": {
          "elapsed": 18,
          "status": "ok",
          "timestamp": 1753192406998,
          "user": {
            "displayName": "Sungmin Han",
            "userId": "16133717747299446002"
          },
          "user_tz": -540
        },
        "id": "ZnExs3saU9xP"
      },
      "outputs": [],
      "source": [
        "import os\n",
        "import textwrap\n",
        "\n",
        "from langchain_openai import ChatOpenAI, OpenAIEmbeddings\n",
        "from langchain_core.prompts import ChatPromptTemplate\n",
        "from langchain_core.output_parsers import StrOutputParser\n",
        "from langchain_core.runnables import RunnableParallel, RunnablePassthrough\n",
        "from langchain_community.document_loaders import PyPDFLoader\n",
        "from langchain_community.vectorstores import FAISS\n",
        "from langchain.text_splitter import RecursiveCharacterTextSplitter\n",
        "from google.colab import userdata\n",
        "from fpdf import FPDF"
      ]
    },
    {
      "cell_type": "code",
      "execution_count": 37,
      "metadata": {
        "executionInfo": {
          "elapsed": 486,
          "status": "ok",
          "timestamp": 1753192407486,
          "user": {
            "displayName": "Sungmin Han",
            "userId": "16133717747299446002"
          },
          "user_tz": -540
        },
        "id": "zIU8BiWhVMOa"
      },
      "outputs": [],
      "source": [
        "OPENAI_API_KEY = userdata.get(\"OPENAI_API_KEY\")"
      ]
    },
    {
      "cell_type": "code",
      "execution_count": 38,
      "metadata": {
        "colab": {
          "base_uri": "https://localhost:8080/",
          "height": 1000
        },
        "executionInfo": {
          "elapsed": 423,
          "status": "ok",
          "timestamp": 1753192407914,
          "user": {
            "displayName": "Sungmin Han",
            "userId": "16133717747299446002"
          },
          "user_tz": -540
        },
        "id": "Py9UhnxWW8PI",
        "outputId": "32182ce4-4da7-4125-f9bf-77779f79180c"
      },
      "outputs": [
        {
          "name": "stderr",
          "output_type": "stream",
          "text": [
            "/usr/local/lib/python3.11/dist-packages/fpdf/ttfonts.py:670: UserWarning: cmap value too big/small: -43961\n",
            "  warnings.warn(\"cmap value too big/small: %s\" % cm)\n",
            "/usr/local/lib/python3.11/dist-packages/fpdf/ttfonts.py:670: UserWarning: cmap value too big/small: -43964\n",
            "  warnings.warn(\"cmap value too big/small: %s\" % cm)\n",
            "/usr/local/lib/python3.11/dist-packages/fpdf/ttfonts.py:670: UserWarning: cmap value too big/small: -43984\n",
            "  warnings.warn(\"cmap value too big/small: %s\" % cm)\n",
            "/usr/local/lib/python3.11/dist-packages/fpdf/ttfonts.py:670: UserWarning: cmap value too big/small: -44070\n",
            "  warnings.warn(\"cmap value too big/small: %s\" % cm)\n",
            "/usr/local/lib/python3.11/dist-packages/fpdf/ttfonts.py:670: UserWarning: cmap value too big/small: -44085\n",
            "  warnings.warn(\"cmap value too big/small: %s\" % cm)\n",
            "/usr/local/lib/python3.11/dist-packages/fpdf/ttfonts.py:670: UserWarning: cmap value too big/small: -44096\n",
            "  warnings.warn(\"cmap value too big/small: %s\" % cm)\n",
            "/usr/local/lib/python3.11/dist-packages/fpdf/ttfonts.py:670: UserWarning: cmap value too big/small: -44131\n",
            "  warnings.warn(\"cmap value too big/small: %s\" % cm)\n",
            "/usr/local/lib/python3.11/dist-packages/fpdf/ttfonts.py:670: UserWarning: cmap value too big/small: -44143\n",
            "  warnings.warn(\"cmap value too big/small: %s\" % cm)\n",
            "/usr/local/lib/python3.11/dist-packages/fpdf/ttfonts.py:670: UserWarning: cmap value too big/small: -44149\n",
            "  warnings.warn(\"cmap value too big/small: %s\" % cm)\n",
            "/usr/local/lib/python3.11/dist-packages/fpdf/ttfonts.py:670: UserWarning: cmap value too big/small: -44176\n",
            "  warnings.warn(\"cmap value too big/small: %s\" % cm)\n",
            "/usr/local/lib/python3.11/dist-packages/fpdf/ttfonts.py:670: UserWarning: cmap value too big/small: -44196\n",
            "  warnings.warn(\"cmap value too big/small: %s\" % cm)\n",
            "/usr/local/lib/python3.11/dist-packages/fpdf/ttfonts.py:670: UserWarning: cmap value too big/small: -44202\n",
            "  warnings.warn(\"cmap value too big/small: %s\" % cm)\n",
            "/usr/local/lib/python3.11/dist-packages/fpdf/ttfonts.py:670: UserWarning: cmap value too big/small: -44205\n",
            "  warnings.warn(\"cmap value too big/small: %s\" % cm)\n",
            "/usr/local/lib/python3.11/dist-packages/fpdf/ttfonts.py:670: UserWarning: cmap value too big/small: -44312\n",
            "  warnings.warn(\"cmap value too big/small: %s\" % cm)\n",
            "/usr/local/lib/python3.11/dist-packages/fpdf/ttfonts.py:670: UserWarning: cmap value too big/small: -44451\n",
            "  warnings.warn(\"cmap value too big/small: %s\" % cm)\n",
            "/usr/local/lib/python3.11/dist-packages/fpdf/ttfonts.py:670: UserWarning: cmap value too big/small: -44506\n",
            "  warnings.warn(\"cmap value too big/small: %s\" % cm)\n",
            "/usr/local/lib/python3.11/dist-packages/fpdf/ttfonts.py:670: UserWarning: cmap value too big/small: -45121\n",
            "  warnings.warn(\"cmap value too big/small: %s\" % cm)\n",
            "/usr/local/lib/python3.11/dist-packages/fpdf/ttfonts.py:670: UserWarning: cmap value too big/small: -45136\n",
            "  warnings.warn(\"cmap value too big/small: %s\" % cm)\n",
            "/usr/local/lib/python3.11/dist-packages/fpdf/ttfonts.py:670: UserWarning: cmap value too big/small: -45347\n",
            "  warnings.warn(\"cmap value too big/small: %s\" % cm)\n",
            "/usr/local/lib/python3.11/dist-packages/fpdf/ttfonts.py:670: UserWarning: cmap value too big/small: -45368\n",
            "  warnings.warn(\"cmap value too big/small: %s\" % cm)\n",
            "/usr/local/lib/python3.11/dist-packages/fpdf/ttfonts.py:670: UserWarning: cmap value too big/small: -45425\n",
            "  warnings.warn(\"cmap value too big/small: %s\" % cm)\n",
            "/usr/local/lib/python3.11/dist-packages/fpdf/ttfonts.py:670: UserWarning: cmap value too big/small: -45624\n",
            "  warnings.warn(\"cmap value too big/small: %s\" % cm)\n",
            "/usr/local/lib/python3.11/dist-packages/fpdf/ttfonts.py:670: UserWarning: cmap value too big/small: -45640\n",
            "  warnings.warn(\"cmap value too big/small: %s\" % cm)\n",
            "/usr/local/lib/python3.11/dist-packages/fpdf/ttfonts.py:670: UserWarning: cmap value too big/small: -45674\n",
            "  warnings.warn(\"cmap value too big/small: %s\" % cm)\n",
            "/usr/local/lib/python3.11/dist-packages/fpdf/ttfonts.py:670: UserWarning: cmap value too big/small: -45701\n",
            "  warnings.warn(\"cmap value too big/small: %s\" % cm)\n",
            "/usr/local/lib/python3.11/dist-packages/fpdf/ttfonts.py:670: UserWarning: cmap value too big/small: -45704\n",
            "  warnings.warn(\"cmap value too big/small: %s\" % cm)\n",
            "/usr/local/lib/python3.11/dist-packages/fpdf/ttfonts.py:670: UserWarning: cmap value too big/small: -45707\n",
            "  warnings.warn(\"cmap value too big/small: %s\" % cm)\n",
            "/usr/local/lib/python3.11/dist-packages/fpdf/ttfonts.py:670: UserWarning: cmap value too big/small: -45726\n",
            "  warnings.warn(\"cmap value too big/small: %s\" % cm)\n",
            "/usr/local/lib/python3.11/dist-packages/fpdf/ttfonts.py:670: UserWarning: cmap value too big/small: -45837\n",
            "  warnings.warn(\"cmap value too big/small: %s\" % cm)\n",
            "/usr/local/lib/python3.11/dist-packages/fpdf/ttfonts.py:670: UserWarning: cmap value too big/small: -45920\n",
            "  warnings.warn(\"cmap value too big/small: %s\" % cm)\n",
            "/usr/local/lib/python3.11/dist-packages/fpdf/ttfonts.py:670: UserWarning: cmap value too big/small: -45940\n",
            "  warnings.warn(\"cmap value too big/small: %s\" % cm)\n",
            "/usr/local/lib/python3.11/dist-packages/fpdf/ttfonts.py:670: UserWarning: cmap value too big/small: -46002\n",
            "  warnings.warn(\"cmap value too big/small: %s\" % cm)\n",
            "/usr/local/lib/python3.11/dist-packages/fpdf/ttfonts.py:670: UserWarning: cmap value too big/small: -46005\n",
            "  warnings.warn(\"cmap value too big/small: %s\" % cm)\n",
            "/usr/local/lib/python3.11/dist-packages/fpdf/ttfonts.py:670: UserWarning: cmap value too big/small: -46056\n",
            "  warnings.warn(\"cmap value too big/small: %s\" % cm)\n",
            "/usr/local/lib/python3.11/dist-packages/fpdf/ttfonts.py:670: UserWarning: cmap value too big/small: -46175\n",
            "  warnings.warn(\"cmap value too big/small: %s\" % cm)\n",
            "/usr/local/lib/python3.11/dist-packages/fpdf/ttfonts.py:670: UserWarning: cmap value too big/small: -46194\n",
            "  warnings.warn(\"cmap value too big/small: %s\" % cm)\n",
            "/usr/local/lib/python3.11/dist-packages/fpdf/ttfonts.py:670: UserWarning: cmap value too big/small: -46214\n",
            "  warnings.warn(\"cmap value too big/small: %s\" % cm)\n",
            "/usr/local/lib/python3.11/dist-packages/fpdf/ttfonts.py:670: UserWarning: cmap value too big/small: -46276\n",
            "  warnings.warn(\"cmap value too big/small: %s\" % cm)\n",
            "/usr/local/lib/python3.11/dist-packages/fpdf/ttfonts.py:670: UserWarning: cmap value too big/small: -46303\n",
            "  warnings.warn(\"cmap value too big/small: %s\" % cm)\n",
            "/usr/local/lib/python3.11/dist-packages/fpdf/ttfonts.py:670: UserWarning: cmap value too big/small: -46862\n",
            "  warnings.warn(\"cmap value too big/small: %s\" % cm)\n",
            "/usr/local/lib/python3.11/dist-packages/fpdf/ttfonts.py:670: UserWarning: cmap value too big/small: -46918\n",
            "  warnings.warn(\"cmap value too big/small: %s\" % cm)\n",
            "/usr/local/lib/python3.11/dist-packages/fpdf/ttfonts.py:670: UserWarning: cmap value too big/small: -46972\n",
            "  warnings.warn(\"cmap value too big/small: %s\" % cm)\n",
            "/usr/local/lib/python3.11/dist-packages/fpdf/ttfonts.py:670: UserWarning: cmap value too big/small: -47000\n",
            "  warnings.warn(\"cmap value too big/small: %s\" % cm)\n",
            "/usr/local/lib/python3.11/dist-packages/fpdf/ttfonts.py:670: UserWarning: cmap value too big/small: -47027\n",
            "  warnings.warn(\"cmap value too big/small: %s\" % cm)\n",
            "/usr/local/lib/python3.11/dist-packages/fpdf/ttfonts.py:670: UserWarning: cmap value too big/small: -47029\n",
            "  warnings.warn(\"cmap value too big/small: %s\" % cm)\n",
            "/usr/local/lib/python3.11/dist-packages/fpdf/ttfonts.py:670: UserWarning: cmap value too big/small: -47080\n",
            "  warnings.warn(\"cmap value too big/small: %s\" % cm)\n",
            "/usr/local/lib/python3.11/dist-packages/fpdf/ttfonts.py:670: UserWarning: cmap value too big/small: -47082\n",
            "  warnings.warn(\"cmap value too big/small: %s\" % cm)\n",
            "/usr/local/lib/python3.11/dist-packages/fpdf/ttfonts.py:670: UserWarning: cmap value too big/small: -47217\n",
            "  warnings.warn(\"cmap value too big/small: %s\" % cm)\n",
            "/usr/local/lib/python3.11/dist-packages/fpdf/ttfonts.py:670: UserWarning: cmap value too big/small: -47356\n",
            "  warnings.warn(\"cmap value too big/small: %s\" % cm)\n",
            "/usr/local/lib/python3.11/dist-packages/fpdf/ttfonts.py:670: UserWarning: cmap value too big/small: -47363\n",
            "  warnings.warn(\"cmap value too big/small: %s\" % cm)\n",
            "/usr/local/lib/python3.11/dist-packages/fpdf/ttfonts.py:670: UserWarning: cmap value too big/small: -47410\n",
            "  warnings.warn(\"cmap value too big/small: %s\" % cm)\n",
            "/usr/local/lib/python3.11/dist-packages/fpdf/ttfonts.py:670: UserWarning: cmap value too big/small: -47426\n",
            "  warnings.warn(\"cmap value too big/small: %s\" % cm)\n",
            "/usr/local/lib/python3.11/dist-packages/fpdf/ttfonts.py:670: UserWarning: cmap value too big/small: -47440\n",
            "  warnings.warn(\"cmap value too big/small: %s\" % cm)\n",
            "/usr/local/lib/python3.11/dist-packages/fpdf/ttfonts.py:670: UserWarning: cmap value too big/small: -47575\n",
            "  warnings.warn(\"cmap value too big/small: %s\" % cm)\n",
            "/usr/local/lib/python3.11/dist-packages/fpdf/ttfonts.py:670: UserWarning: cmap value too big/small: -47602\n",
            "  warnings.warn(\"cmap value too big/small: %s\" % cm)\n",
            "/usr/local/lib/python3.11/dist-packages/fpdf/ttfonts.py:670: UserWarning: cmap value too big/small: -47622\n",
            "  warnings.warn(\"cmap value too big/small: %s\" % cm)\n",
            "/usr/local/lib/python3.11/dist-packages/fpdf/ttfonts.py:670: UserWarning: cmap value too big/small: -47656\n",
            "  warnings.warn(\"cmap value too big/small: %s\" % cm)\n",
            "/usr/local/lib/python3.11/dist-packages/fpdf/ttfonts.py:670: UserWarning: cmap value too big/small: -47798\n",
            "  warnings.warn(\"cmap value too big/small: %s\" % cm)\n",
            "/usr/local/lib/python3.11/dist-packages/fpdf/ttfonts.py:670: UserWarning: cmap value too big/small: -48021\n",
            "  warnings.warn(\"cmap value too big/small: %s\" % cm)\n",
            "/usr/local/lib/python3.11/dist-packages/fpdf/ttfonts.py:670: UserWarning: cmap value too big/small: -48156\n",
            "  warnings.warn(\"cmap value too big/small: %s\" % cm)\n",
            "/usr/local/lib/python3.11/dist-packages/fpdf/ttfonts.py:670: UserWarning: cmap value too big/small: -48186\n",
            "  warnings.warn(\"cmap value too big/small: %s\" % cm)\n",
            "/usr/local/lib/python3.11/dist-packages/fpdf/ttfonts.py:670: UserWarning: cmap value too big/small: -48238\n",
            "  warnings.warn(\"cmap value too big/small: %s\" % cm)\n",
            "/usr/local/lib/python3.11/dist-packages/fpdf/ttfonts.py:670: UserWarning: cmap value too big/small: -48240\n",
            "  warnings.warn(\"cmap value too big/small: %s\" % cm)\n",
            "/usr/local/lib/python3.11/dist-packages/fpdf/ttfonts.py:670: UserWarning: cmap value too big/small: -48375\n",
            "  warnings.warn(\"cmap value too big/small: %s\" % cm)\n",
            "/usr/local/lib/python3.11/dist-packages/fpdf/ttfonts.py:670: UserWarning: cmap value too big/small: -49186\n",
            "  warnings.warn(\"cmap value too big/small: %s\" % cm)\n",
            "/usr/local/lib/python3.11/dist-packages/fpdf/ttfonts.py:670: UserWarning: cmap value too big/small: -49206\n",
            "  warnings.warn(\"cmap value too big/small: %s\" % cm)\n",
            "/usr/local/lib/python3.11/dist-packages/fpdf/ttfonts.py:670: UserWarning: cmap value too big/small: -49212\n",
            "  warnings.warn(\"cmap value too big/small: %s\" % cm)\n",
            "/usr/local/lib/python3.11/dist-packages/fpdf/ttfonts.py:670: UserWarning: cmap value too big/small: -49298\n",
            "  warnings.warn(\"cmap value too big/small: %s\" % cm)\n",
            "/usr/local/lib/python3.11/dist-packages/fpdf/ttfonts.py:670: UserWarning: cmap value too big/small: -49314\n",
            "  warnings.warn(\"cmap value too big/small: %s\" % cm)\n",
            "/usr/local/lib/python3.11/dist-packages/fpdf/ttfonts.py:670: UserWarning: cmap value too big/small: -49320\n",
            "  warnings.warn(\"cmap value too big/small: %s\" % cm)\n",
            "/usr/local/lib/python3.11/dist-packages/fpdf/ttfonts.py:670: UserWarning: cmap value too big/small: -49351\n",
            "  warnings.warn(\"cmap value too big/small: %s\" % cm)\n",
            "/usr/local/lib/python3.11/dist-packages/fpdf/ttfonts.py:670: UserWarning: cmap value too big/small: -49402\n",
            "  warnings.warn(\"cmap value too big/small: %s\" % cm)\n",
            "/usr/local/lib/python3.11/dist-packages/fpdf/ttfonts.py:670: UserWarning: cmap value too big/small: -49541\n",
            "  warnings.warn(\"cmap value too big/small: %s\" % cm)\n",
            "/usr/local/lib/python3.11/dist-packages/fpdf/ttfonts.py:670: UserWarning: cmap value too big/small: -49680\n",
            "  warnings.warn(\"cmap value too big/small: %s\" % cm)\n",
            "/usr/local/lib/python3.11/dist-packages/fpdf/ttfonts.py:670: UserWarning: cmap value too big/small: -49696\n",
            "  warnings.warn(\"cmap value too big/small: %s\" % cm)\n",
            "/usr/local/lib/python3.11/dist-packages/fpdf/ttfonts.py:670: UserWarning: cmap value too big/small: -49734\n",
            "  warnings.warn(\"cmap value too big/small: %s\" % cm)\n",
            "/usr/local/lib/python3.11/dist-packages/fpdf/ttfonts.py:670: UserWarning: cmap value too big/small: -49741\n",
            "  warnings.warn(\"cmap value too big/small: %s\" % cm)\n",
            "/usr/local/lib/python3.11/dist-packages/fpdf/ttfonts.py:670: UserWarning: cmap value too big/small: -49748\n",
            "  warnings.warn(\"cmap value too big/small: %s\" % cm)\n",
            "/usr/local/lib/python3.11/dist-packages/fpdf/ttfonts.py:670: UserWarning: cmap value too big/small: -49871\n",
            "  warnings.warn(\"cmap value too big/small: %s\" % cm)\n",
            "/usr/local/lib/python3.11/dist-packages/fpdf/ttfonts.py:670: UserWarning: cmap value too big/small: -50346\n",
            "  warnings.warn(\"cmap value too big/small: %s\" % cm)\n",
            "/usr/local/lib/python3.11/dist-packages/fpdf/ttfonts.py:670: UserWarning: cmap value too big/small: -50349\n",
            "  warnings.warn(\"cmap value too big/small: %s\" % cm)\n",
            "/usr/local/lib/python3.11/dist-packages/fpdf/ttfonts.py:670: UserWarning: cmap value too big/small: -50350\n",
            "  warnings.warn(\"cmap value too big/small: %s\" % cm)\n",
            "/usr/local/lib/python3.11/dist-packages/fpdf/ttfonts.py:670: UserWarning: cmap value too big/small: -50399\n",
            "  warnings.warn(\"cmap value too big/small: %s\" % cm)\n",
            "/usr/local/lib/python3.11/dist-packages/fpdf/ttfonts.py:670: UserWarning: cmap value too big/small: -50419\n",
            "  warnings.warn(\"cmap value too big/small: %s\" % cm)\n",
            "/usr/local/lib/python3.11/dist-packages/fpdf/ttfonts.py:670: UserWarning: cmap value too big/small: -50453\n",
            "  warnings.warn(\"cmap value too big/small: %s\" % cm)\n",
            "/usr/local/lib/python3.11/dist-packages/fpdf/ttfonts.py:670: UserWarning: cmap value too big/small: -50468\n",
            "  warnings.warn(\"cmap value too big/small: %s\" % cm)\n",
            "/usr/local/lib/python3.11/dist-packages/fpdf/ttfonts.py:670: UserWarning: cmap value too big/small: -50478\n",
            "  warnings.warn(\"cmap value too big/small: %s\" % cm)\n",
            "/usr/local/lib/python3.11/dist-packages/fpdf/ttfonts.py:670: UserWarning: cmap value too big/small: -50505\n",
            "  warnings.warn(\"cmap value too big/small: %s\" % cm)\n",
            "/usr/local/lib/python3.11/dist-packages/fpdf/ttfonts.py:670: UserWarning: cmap value too big/small: -50508\n",
            "  warnings.warn(\"cmap value too big/small: %s\" % cm)\n",
            "/usr/local/lib/python3.11/dist-packages/fpdf/ttfonts.py:670: UserWarning: cmap value too big/small: -50531\n",
            "  warnings.warn(\"cmap value too big/small: %s\" % cm)\n",
            "/usr/local/lib/python3.11/dist-packages/fpdf/ttfonts.py:670: UserWarning: cmap value too big/small: -50586\n",
            "  warnings.warn(\"cmap value too big/small: %s\" % cm)\n",
            "/usr/local/lib/python3.11/dist-packages/fpdf/ttfonts.py:670: UserWarning: cmap value too big/small: -50669\n",
            "  warnings.warn(\"cmap value too big/small: %s\" % cm)\n",
            "/usr/local/lib/python3.11/dist-packages/fpdf/ttfonts.py:670: UserWarning: cmap value too big/small: -50689\n",
            "  warnings.warn(\"cmap value too big/small: %s\" % cm)\n",
            "/usr/local/lib/python3.11/dist-packages/fpdf/ttfonts.py:670: UserWarning: cmap value too big/small: -50699\n",
            "  warnings.warn(\"cmap value too big/small: %s\" % cm)\n",
            "/usr/local/lib/python3.11/dist-packages/fpdf/ttfonts.py:670: UserWarning: cmap value too big/small: -50767\n",
            "  warnings.warn(\"cmap value too big/small: %s\" % cm)\n",
            "/usr/local/lib/python3.11/dist-packages/fpdf/ttfonts.py:670: UserWarning: cmap value too big/small: -50777\n",
            "  warnings.warn(\"cmap value too big/small: %s\" % cm)\n",
            "/usr/local/lib/python3.11/dist-packages/fpdf/ttfonts.py:670: UserWarning: cmap value too big/small: -50812\n",
            "  warnings.warn(\"cmap value too big/small: %s\" % cm)\n",
            "/usr/local/lib/python3.11/dist-packages/fpdf/ttfonts.py:670: UserWarning: cmap value too big/small: -50831\n",
            "  warnings.warn(\"cmap value too big/small: %s\" % cm)\n",
            "/usr/local/lib/python3.11/dist-packages/fpdf/ttfonts.py:670: UserWarning: cmap value too big/small: -50834\n",
            "  warnings.warn(\"cmap value too big/small: %s\" % cm)\n",
            "/usr/local/lib/python3.11/dist-packages/fpdf/ttfonts.py:670: UserWarning: cmap value too big/small: -50837\n",
            "  warnings.warn(\"cmap value too big/small: %s\" % cm)\n",
            "/usr/local/lib/python3.11/dist-packages/fpdf/ttfonts.py:670: UserWarning: cmap value too big/small: -50844\n",
            "  warnings.warn(\"cmap value too big/small: %s\" % cm)\n",
            "/usr/local/lib/python3.11/dist-packages/fpdf/ttfonts.py:670: UserWarning: cmap value too big/small: -50855\n",
            "  warnings.warn(\"cmap value too big/small: %s\" % cm)\n",
            "/usr/local/lib/python3.11/dist-packages/fpdf/ttfonts.py:670: UserWarning: cmap value too big/small: -50882\n",
            "  warnings.warn(\"cmap value too big/small: %s\" % cm)\n",
            "/usr/local/lib/python3.11/dist-packages/fpdf/ttfonts.py:670: UserWarning: cmap value too big/small: -50885\n",
            "  warnings.warn(\"cmap value too big/small: %s\" % cm)\n",
            "/usr/local/lib/python3.11/dist-packages/fpdf/ttfonts.py:670: UserWarning: cmap value too big/small: -50888\n",
            "  warnings.warn(\"cmap value too big/small: %s\" % cm)\n",
            "/usr/local/lib/python3.11/dist-packages/fpdf/ttfonts.py:670: UserWarning: cmap value too big/small: -50895\n",
            "  warnings.warn(\"cmap value too big/small: %s\" % cm)\n",
            "/usr/local/lib/python3.11/dist-packages/fpdf/ttfonts.py:670: UserWarning: cmap value too big/small: -50898\n",
            "  warnings.warn(\"cmap value too big/small: %s\" % cm)\n",
            "/usr/local/lib/python3.11/dist-packages/fpdf/ttfonts.py:670: UserWarning: cmap value too big/small: -50905\n",
            "  warnings.warn(\"cmap value too big/small: %s\" % cm)\n",
            "/usr/local/lib/python3.11/dist-packages/fpdf/ttfonts.py:670: UserWarning: cmap value too big/small: -50920\n",
            "  warnings.warn(\"cmap value too big/small: %s\" % cm)\n",
            "/usr/local/lib/python3.11/dist-packages/fpdf/ttfonts.py:670: UserWarning: cmap value too big/small: -50923\n",
            "  warnings.warn(\"cmap value too big/small: %s\" % cm)\n",
            "/usr/local/lib/python3.11/dist-packages/fpdf/ttfonts.py:670: UserWarning: cmap value too big/small: -50929\n",
            "  warnings.warn(\"cmap value too big/small: %s\" % cm)\n",
            "/usr/local/lib/python3.11/dist-packages/fpdf/ttfonts.py:670: UserWarning: cmap value too big/small: -51012\n",
            "  warnings.warn(\"cmap value too big/small: %s\" % cm)\n",
            "/usr/local/lib/python3.11/dist-packages/fpdf/ttfonts.py:670: UserWarning: cmap value too big/small: -51014\n",
            "  warnings.warn(\"cmap value too big/small: %s\" % cm)\n",
            "/usr/local/lib/python3.11/dist-packages/fpdf/ttfonts.py:670: UserWarning: cmap value too big/small: -51025\n",
            "  warnings.warn(\"cmap value too big/small: %s\" % cm)\n",
            "/usr/local/lib/python3.11/dist-packages/fpdf/ttfonts.py:670: UserWarning: cmap value too big/small: -51029\n",
            "  warnings.warn(\"cmap value too big/small: %s\" % cm)\n",
            "/usr/local/lib/python3.11/dist-packages/fpdf/ttfonts.py:670: UserWarning: cmap value too big/small: -51035\n",
            "  warnings.warn(\"cmap value too big/small: %s\" % cm)\n",
            "/usr/local/lib/python3.11/dist-packages/fpdf/ttfonts.py:670: UserWarning: cmap value too big/small: -51082\n",
            "  warnings.warn(\"cmap value too big/small: %s\" % cm)\n",
            "/usr/local/lib/python3.11/dist-packages/fpdf/ttfonts.py:670: UserWarning: cmap value too big/small: -51117\n",
            "  warnings.warn(\"cmap value too big/small: %s\" % cm)\n",
            "/usr/local/lib/python3.11/dist-packages/fpdf/ttfonts.py:670: UserWarning: cmap value too big/small: -51120\n",
            "  warnings.warn(\"cmap value too big/small: %s\" % cm)\n",
            "/usr/local/lib/python3.11/dist-packages/fpdf/ttfonts.py:670: UserWarning: cmap value too big/small: -51255\n",
            "  warnings.warn(\"cmap value too big/small: %s\" % cm)\n",
            "/usr/local/lib/python3.11/dist-packages/fpdf/ttfonts.py:670: UserWarning: cmap value too big/small: -51275\n",
            "  warnings.warn(\"cmap value too big/small: %s\" % cm)\n",
            "/usr/local/lib/python3.11/dist-packages/fpdf/ttfonts.py:670: UserWarning: cmap value too big/small: -51394\n",
            "  warnings.warn(\"cmap value too big/small: %s\" % cm)\n",
            "/usr/local/lib/python3.11/dist-packages/fpdf/ttfonts.py:670: UserWarning: cmap value too big/small: -51408\n",
            "  warnings.warn(\"cmap value too big/small: %s\" % cm)\n",
            "/usr/local/lib/python3.11/dist-packages/fpdf/ttfonts.py:670: UserWarning: cmap value too big/small: -51447\n",
            "  warnings.warn(\"cmap value too big/small: %s\" % cm)\n",
            "/usr/local/lib/python3.11/dist-packages/fpdf/ttfonts.py:670: UserWarning: cmap value too big/small: -51450\n",
            "  warnings.warn(\"cmap value too big/small: %s\" % cm)\n",
            "/usr/local/lib/python3.11/dist-packages/fpdf/ttfonts.py:670: UserWarning: cmap value too big/small: -52061\n",
            "  warnings.warn(\"cmap value too big/small: %s\" % cm)\n",
            "/usr/local/lib/python3.11/dist-packages/fpdf/ttfonts.py:670: UserWarning: cmap value too big/small: -52076\n",
            "  warnings.warn(\"cmap value too big/small: %s\" % cm)\n",
            "/usr/local/lib/python3.11/dist-packages/fpdf/ttfonts.py:670: UserWarning: cmap value too big/small: -52171\n",
            "  warnings.warn(\"cmap value too big/small: %s\" % cm)\n",
            "/usr/local/lib/python3.11/dist-packages/fpdf/ttfonts.py:670: UserWarning: cmap value too big/small: -52282\n",
            "  warnings.warn(\"cmap value too big/small: %s\" % cm)\n",
            "/usr/local/lib/python3.11/dist-packages/fpdf/ttfonts.py:670: UserWarning: cmap value too big/small: -52365\n",
            "  warnings.warn(\"cmap value too big/small: %s\" % cm)\n",
            "/usr/local/lib/python3.11/dist-packages/fpdf/ttfonts.py:670: UserWarning: cmap value too big/small: -52420\n",
            "  warnings.warn(\"cmap value too big/small: %s\" % cm)\n",
            "/usr/local/lib/python3.11/dist-packages/fpdf/ttfonts.py:670: UserWarning: cmap value too big/small: -52427\n",
            "  warnings.warn(\"cmap value too big/small: %s\" % cm)\n",
            "/usr/local/lib/python3.11/dist-packages/fpdf/ttfonts.py:670: UserWarning: cmap value too big/small: -52614\n",
            "  warnings.warn(\"cmap value too big/small: %s\" % cm)\n",
            "/usr/local/lib/python3.11/dist-packages/fpdf/ttfonts.py:670: UserWarning: cmap value too big/small: -52753\n",
            "  warnings.warn(\"cmap value too big/small: %s\" % cm)\n",
            "/usr/local/lib/python3.11/dist-packages/fpdf/ttfonts.py:670: UserWarning: cmap value too big/small: -52864\n",
            "  warnings.warn(\"cmap value too big/small: %s\" % cm)\n",
            "/usr/local/lib/python3.11/dist-packages/fpdf/ttfonts.py:670: UserWarning: cmap value too big/small: -53199\n",
            "  warnings.warn(\"cmap value too big/small: %s\" % cm)\n",
            "/usr/local/lib/python3.11/dist-packages/fpdf/ttfonts.py:670: UserWarning: cmap value too big/small: -53255\n",
            "  warnings.warn(\"cmap value too big/small: %s\" % cm)\n",
            "/usr/local/lib/python3.11/dist-packages/fpdf/ttfonts.py:670: UserWarning: cmap value too big/small: -53337\n",
            "  warnings.warn(\"cmap value too big/small: %s\" % cm)\n",
            "/usr/local/lib/python3.11/dist-packages/fpdf/ttfonts.py:670: UserWarning: cmap value too big/small: -53365\n",
            "  warnings.warn(\"cmap value too big/small: %s\" % cm)\n",
            "/usr/local/lib/python3.11/dist-packages/fpdf/ttfonts.py:670: UserWarning: cmap value too big/small: -53468\n",
            "  warnings.warn(\"cmap value too big/small: %s\" % cm)\n",
            "/usr/local/lib/python3.11/dist-packages/fpdf/ttfonts.py:670: UserWarning: cmap value too big/small: -53726\n",
            "  warnings.warn(\"cmap value too big/small: %s\" % cm)\n",
            "/usr/local/lib/python3.11/dist-packages/fpdf/ttfonts.py:670: UserWarning: cmap value too big/small: -53837\n",
            "  warnings.warn(\"cmap value too big/small: %s\" % cm)\n",
            "/usr/local/lib/python3.11/dist-packages/fpdf/ttfonts.py:670: UserWarning: cmap value too big/small: -53948\n",
            "  warnings.warn(\"cmap value too big/small: %s\" % cm)\n",
            "/usr/local/lib/python3.11/dist-packages/fpdf/ttfonts.py:670: UserWarning: cmap value too big/small: -54143\n",
            "  warnings.warn(\"cmap value too big/small: %s\" % cm)\n",
            "/usr/local/lib/python3.11/dist-packages/fpdf/ttfonts.py:670: UserWarning: cmap value too big/small: -54318\n",
            "  warnings.warn(\"cmap value too big/small: %s\" % cm)\n",
            "/usr/local/lib/python3.11/dist-packages/fpdf/ttfonts.py:670: UserWarning: cmap value too big/small: -54373\n",
            "  warnings.warn(\"cmap value too big/small: %s\" % cm)\n",
            "/usr/local/lib/python3.11/dist-packages/fpdf/ttfonts.py:670: UserWarning: cmap value too big/small: -54392\n",
            "  warnings.warn(\"cmap value too big/small: %s\" % cm)\n",
            "/usr/local/lib/python3.11/dist-packages/fpdf/ttfonts.py:670: UserWarning: cmap value too big/small: -54394\n",
            "  warnings.warn(\"cmap value too big/small: %s\" % cm)\n",
            "/usr/local/lib/python3.11/dist-packages/fpdf/ttfonts.py:670: UserWarning: cmap value too big/small: -54397\n",
            "  warnings.warn(\"cmap value too big/small: %s\" % cm)\n",
            "/usr/local/lib/python3.11/dist-packages/fpdf/ttfonts.py:670: UserWarning: cmap value too big/small: -54404\n",
            "  warnings.warn(\"cmap value too big/small: %s\" % cm)\n",
            "/usr/local/lib/python3.11/dist-packages/fpdf/ttfonts.py:670: UserWarning: cmap value too big/small: -54414\n",
            "  warnings.warn(\"cmap value too big/small: %s\" % cm)\n",
            "/usr/local/lib/python3.11/dist-packages/fpdf/ttfonts.py:670: UserWarning: cmap value too big/small: -54433\n",
            "  warnings.warn(\"cmap value too big/small: %s\" % cm)\n",
            "/usr/local/lib/python3.11/dist-packages/fpdf/ttfonts.py:670: UserWarning: cmap value too big/small: -54511\n",
            "  warnings.warn(\"cmap value too big/small: %s\" % cm)\n",
            "/usr/local/lib/python3.11/dist-packages/fpdf/ttfonts.py:670: UserWarning: cmap value too big/small: -54554\n",
            "  warnings.warn(\"cmap value too big/small: %s\" % cm)\n",
            "/usr/local/lib/python3.11/dist-packages/fpdf/ttfonts.py:670: UserWarning: cmap value too big/small: -54605\n",
            "  warnings.warn(\"cmap value too big/small: %s\" % cm)\n",
            "/usr/local/lib/python3.11/dist-packages/fpdf/ttfonts.py:670: UserWarning: cmap value too big/small: -54632\n",
            "  warnings.warn(\"cmap value too big/small: %s\" % cm)\n",
            "/usr/local/lib/python3.11/dist-packages/fpdf/ttfonts.py:670: UserWarning: cmap value too big/small: -54635\n",
            "  warnings.warn(\"cmap value too big/small: %s\" % cm)\n",
            "/usr/local/lib/python3.11/dist-packages/fpdf/ttfonts.py:670: UserWarning: cmap value too big/small: -54686\n",
            "  warnings.warn(\"cmap value too big/small: %s\" % cm)\n"
          ]
        },
        {
          "data": {
            "application/vnd.google.colaboratory.intrinsic+json": {
              "type": "string"
            },
            "text/plain": [
              "''"
            ]
          },
          "execution_count": 38,
          "metadata": {},
          "output_type": "execute_result"
        }
      ],
      "source": [
        "pdf = FPDF()\n",
        "pdf.add_page()\n",
        "pdf.add_font('NanumGothic', '', '/usr/share/fonts/truetype/nanum/NanumGothic.ttf', uni=True)\n",
        "pdf.set_font('NanumGothic', '', 12)\n",
        "\n",
        "\n",
        "pdf_content = \"\"\"\n",
        "페이지 1:\n",
        "제목: 자율 인지 에이전트(ACA)의 아키텍처 연구\n",
        "\n",
        "초록: 본 논문은 차세대 AI 패러다임인 자율 인지 에이전트(Autonomous Cognitive Agent, ACA)의 핵심 아키텍처를 제안한다. ACA는 LLM을 핵심 두뇌로 사용하며, 동적 계획 수립(Dynamic Planning), 다중 도구 사용(Multi-Tool Use), 그리고 장기 기억(Long-term Memory)이라는 세 가지 필수 구성 요소로 이루어진다.\n",
        "\n",
        "---\n",
        "페이지 2:\n",
        "ACA의 핵심 구성 요소 1: 동적 계획 수립\n",
        "\n",
        "전통적인 에이전트는 고정된 계획을 따르지만, ACA의 계획 수립 모듈은 환경의 변화나 예기치 않은 결과에 따라 실시간으로 목표와 전략을 수정한다. 이는 '리플렉션(Reflection)' 메커니즘을 통해 실패 경험으로부터 학습하고, 다음 행동 계획을 최적화함으로써 달성된다.\n",
        "\n",
        "---\n",
        "페이지 3:\n",
        "ACA의 핵심 구성 요소 2: 다중 도구 사용\n",
        "\n",
        "ACA는 단일 도구에 의존하지 않는다. 웹 검색, 코드 실행, 데이터베이스 조회 등 다양한 API를 도구로 등록하고, 현재 해결해야 할 하위 과업에 가장 적합한 도구를 스스로 선택하여 호출한다. 도구 선택 과정은 LLM의 추론 능력에 기반하며, 이를 통해 복잡하고 다단계적인 문제 해결이 가능해진다.\n",
        "\n",
        "---\n",
        "페이지 4:\n",
        "ACA의 핵심 구성 요소 3: 장기 기억\n",
        "\n",
        "인간과 같이 ACA는 과거의 상호작용과 성공/실패 경험을 장기 기억에 저장한다. 이 기억은 벡터 데이터베이스에 저장되어, 새로운 과업이 주어졌을 때 관련성 높은 과거 경험을 즉시 참조할 수 있게 한다. 이는 에이전트가 동일한 실수를 반복하지 않고 시간이 지남에 따라 점차 현명해지도록 만드는 핵심 요소이다.\n",
        "\"\"\"\n",
        "pdf.multi_cell(0, 10, pdf_content)\n",
        "pdf_file_path = \"llm_agent_research_paper.pdf\"\n",
        "pdf.output(pdf_file_path)"
      ]
    },
    {
      "cell_type": "code",
      "execution_count": 49,
      "metadata": {
        "colab": {
          "base_uri": "https://localhost:8080/"
        },
        "executionInfo": {
          "elapsed": 1166,
          "status": "ok",
          "timestamp": 1753192742898,
          "user": {
            "displayName": "Sungmin Han",
            "userId": "16133717747299446002"
          },
          "user_tz": -540
        },
        "id": "b8csIyymYKP8",
        "outputId": "2f434523-1168-41c6-ee00-435aac20a205"
      },
      "outputs": [
        {
          "name": "stdout",
          "output_type": "stream",
          "text": [
            "--- [단계 1] PDF 데이터 로딩 ---\n",
            "'llm_agent_research_paper.pdf'에서 2개의 페이지를 로드했습니다.\n",
            "\n"
          ]
        }
      ],
      "source": [
        "print(f\"--- [단계 1] PDF 데이터 로딩 ---\")\n",
        "loader = PyPDFLoader(pdf_file_path)\n",
        "docs = loader.load()\n",
        "print(f\"'{pdf_file_path}'에서 {len(docs)}개의 페이지를 로드했습니다.\\n\")"
      ]
    },
    {
      "cell_type": "code",
      "execution_count": 50,
      "metadata": {
        "colab": {
          "base_uri": "https://localhost:8080/"
        },
        "executionInfo": {
          "elapsed": 6,
          "status": "ok",
          "timestamp": 1753192744675,
          "user": {
            "displayName": "Sungmin Han",
            "userId": "16133717747299446002"
          },
          "user_tz": -540
        },
        "id": "RPK2cQImZWKV",
        "outputId": "9e0200d0-0a9b-4689-d6ca-2a13d749e87b"
      },
      "outputs": [
        {
          "name": "stdout",
          "output_type": "stream",
          "text": [
            "--- [단계 2] 문서 분할 ---\n",
            "문서를 3개의 청크로 분할했습니다.\n",
            "\n"
          ]
        }
      ],
      "source": [
        "print(f\"--- [단계 2] 문서 분할 ---\")\n",
        "text_splitter = RecursiveCharacterTextSplitter(chunk_size=500, chunk_overlap=100)\n",
        "splits = text_splitter.split_documents(docs)\n",
        "print(f\"문서를 {len(splits)}개의 청크로 분할했습니다.\\n\")"
      ]
    },
    {
      "cell_type": "code",
      "execution_count": 51,
      "metadata": {
        "colab": {
          "base_uri": "https://localhost:8080/"
        },
        "executionInfo": {
          "elapsed": 431,
          "status": "ok",
          "timestamp": 1753192751582,
          "user": {
            "displayName": "Sungmin Han",
            "userId": "16133717747299446002"
          },
          "user_tz": -540
        },
        "id": "HpOkJYncZvbs",
        "outputId": "576dac7b-f26c-4b64-88e2-cdf4c1822c51"
      },
      "outputs": [
        {
          "name": "stdout",
          "output_type": "stream",
          "text": [
            "--- [단계 3] 벡터 저장소 구축 및 검색기 생성 ---\n",
            "검색기 준비 완료.\n",
            "\n"
          ]
        }
      ],
      "source": [
        "# 벡터 저장소 및 검색기 구축\n",
        "print(f\"--- [단계 3] 벡터 저장소 구축 및 검색기 생성 ---\")\n",
        "vectorstore = FAISS.from_documents(\n",
        "    documents=splits,\n",
        "    embedding=OpenAIEmbeddings(openai_api_key=OPENAI_API_KEY),\n",
        ")\n",
        "retriever = vectorstore.as_retriever()\n",
        "print(\"검색기 준비 완료.\\n\")"
      ]
    },
    {
      "cell_type": "code",
      "execution_count": 52,
      "metadata": {
        "colab": {
          "base_uri": "https://localhost:8080/"
        },
        "executionInfo": {
          "elapsed": 8,
          "status": "ok",
          "timestamp": 1753192755907,
          "user": {
            "displayName": "Sungmin Han",
            "userId": "16133717747299446002"
          },
          "user_tz": -540
        },
        "id": "2ifAgaeKZxV-",
        "outputId": "82caae81-55b0-45fc-c599-6be72ea3bd00"
      },
      "outputs": [
        {
          "name": "stdout",
          "output_type": "stream",
          "text": [
            "--- [단계 4] RAG 체인 설계 ---\n"
          ]
        }
      ],
      "source": [
        "# 고급 RAG 체인 설계\n",
        "print(f\"--- [단계 4] RAG 체인 설계 ---\")"
      ]
    },
    {
      "cell_type": "code",
      "execution_count": 53,
      "metadata": {
        "executionInfo": {
          "elapsed": 8,
          "status": "ok",
          "timestamp": 1753192757149,
          "user": {
            "displayName": "Sungmin Han",
            "userId": "16133717747299446002"
          },
          "user_tz": -540
        },
        "id": "TInvLO5AZzdT"
      },
      "outputs": [],
      "source": [
        "# 검색된 문서 리스트를 하나의 문자열로 합치는 헬퍼 함수\n",
        "def format_docs(docs):\n",
        "    return \"\\n\\n\".join(f\"출처: {doc.metadata.get('source', 'N/A')}, 페이지: {doc.metadata.get('page', 'N/A')+1}\\n내용: {doc.page_content}\" for doc in docs)"
      ]
    },
    {
      "cell_type": "code",
      "execution_count": 54,
      "metadata": {
        "executionInfo": {
          "elapsed": 2,
          "status": "ok",
          "timestamp": 1753192757986,
          "user": {
            "displayName": "Sungmin Han",
            "userId": "16133717747299446002"
          },
          "user_tz": -540
        },
        "id": "XcUKoWIGZ23D"
      },
      "outputs": [],
      "source": [
        "# RAG 프롬프트 템플릿 정의\n",
        "rag_prompt = ChatPromptTemplate.from_template(\n",
        "    \"\"\"당신은 주어진 문맥(Context)을 바탕으로 질문에 대해 명확하고 간결하게 답변하는 AI 연구원입니다.\n",
        "    답변은 반드시 주어진 문맥에 근거해야 합니다.\n",
        "\n",
        "    [문맥]:\n",
        "    {context}\n",
        "\n",
        "    [질문]:\n",
        "    {question}\n",
        "\n",
        "    [답변]:\n",
        "    \"\"\"\n",
        ")"
      ]
    },
    {
      "cell_type": "code",
      "execution_count": 55,
      "metadata": {
        "executionInfo": {
          "elapsed": 9,
          "status": "ok",
          "timestamp": 1753192758601,
          "user": {
            "displayName": "Sungmin Han",
            "userId": "16133717747299446002"
          },
          "user_tz": -540
        },
        "id": "2E5q3lg7Z4He"
      },
      "outputs": [],
      "source": [
        "# RAG 프롬프트 템플릿 정의\n",
        "rag_prompt = ChatPromptTemplate.from_template(\n",
        "    \"\"\"당신은 주어진 문맥(Context)을 바탕으로 질문에 대해 명확하고 간결하게 답변하는 AI 연구원입니다.\n",
        "    답변은 반드시 주어진 문맥에 근거해야 합니다.\n",
        "\n",
        "    [문맥]:\n",
        "    {context}\n",
        "\n",
        "    [질문]:\n",
        "    {question}\n",
        "\n",
        "    [답변]:\n",
        "    \"\"\"\n",
        ")\n",
        "\n",
        "# LLM 정의\n",
        "llm = ChatOpenAI(\n",
        "    openai_api_key=OPENAI_API_KEY,\n",
        "    model=\"gpt-4o\",\n",
        "    temperature=0,\n",
        ")\n",
        "\n",
        "# 최종 답변을 생성하는 체인\n",
        "rag_chain_from_docs = (\n",
        "    RunnablePassthrough.assign(context=(lambda x: format_docs(x[\"context\"])))\n",
        "    | rag_prompt\n",
        "\n",
        "    | llm\n",
        "    | StrOutputParser()\n",
        ")"
      ]
    },
    {
      "cell_type": "code",
      "execution_count": 56,
      "metadata": {
        "colab": {
          "base_uri": "https://localhost:8080/"
        },
        "executionInfo": {
          "elapsed": 5,
          "status": "ok",
          "timestamp": 1753192759470,
          "user": {
            "displayName": "Sungmin Han",
            "userId": "16133717747299446002"
          },
          "user_tz": -540
        },
        "id": "j36IbJQkZ6Lb",
        "outputId": "b209b6e5-13a9-4f12-d60f-e261e35cdbbe"
      },
      "outputs": [
        {
          "name": "stdout",
          "output_type": "stream",
          "text": [
            "체인 설계 완료.\n",
            "\n"
          ]
        }
      ],
      "source": [
        "# 검색된 원본 문서(context)와 생성된 답변(answer)을 함께 반환하는 최종 체인\n",
        "# RunnableParallel을 사용하여 병렬적으로 두 개의 결과를 구성한다.\n",
        "rag_chain_with_source = RunnableParallel(\n",
        "    {\"context\": retriever, \"question\": RunnablePassthrough()}\n",
        ").assign(answer=rag_chain_from_docs)\n",
        "\n",
        "print(\"체인 설계 완료.\\n\")"
      ]
    },
    {
      "cell_type": "code",
      "execution_count": 57,
      "metadata": {
        "colab": {
          "base_uri": "https://localhost:8080/"
        },
        "executionInfo": {
          "elapsed": 3187,
          "status": "ok",
          "timestamp": 1753192768095,
          "user": {
            "displayName": "Sungmin Han",
            "userId": "16133717747299446002"
          },
          "user_tz": -540
        },
        "id": "N8n7sGzbZ7ZD",
        "outputId": "fbe5fd11-378e-4636-928d-4c7e1e94a83e"
      },
      "outputs": [
        {
          "name": "stdout",
          "output_type": "stream",
          "text": [
            "--- [단계 5] 체인 실행 ---\n"
          ]
        }
      ],
      "source": [
        "# 체인 실행 및 결과 해석\n",
        "print(f\"--- [단계 5] 체인 실행 ---\")\n",
        "question = \"자율 인지 에이전트(ACA)의 핵심 구성 요소 세 가지는 무엇인가요?\"\n",
        "response = rag_chain_with_source.invoke(question)"
      ]
    },
    {
      "cell_type": "code",
      "execution_count": 58,
      "metadata": {
        "colab": {
          "base_uri": "https://localhost:8080/"
        },
        "executionInfo": {
          "elapsed": 6,
          "status": "ok",
          "timestamp": 1753192768103,
          "user": {
            "displayName": "Sungmin Han",
            "userId": "16133717747299446002"
          },
          "user_tz": -540
        },
        "id": "ffooKoF_Z8k1",
        "outputId": "7f2e9952-a6fa-40f1-9aa5-f958dc5e3867"
      },
      "outputs": [
        {
          "name": "stdout",
          "output_type": "stream",
          "text": [
            "질문: 자율 인지 에이전트(ACA)의 핵심 구성 요소 세 가지는 무엇인가요?\n",
            "\n",
            "==================================================\n",
            "생성된 답변:\n",
            "\n",
            "자율 인지 에이전트(ACA)의 핵심 구성 요소 세 가지는 동적 계획 수립, 다중 도구 사용, 장기 기억입니다.\n",
            "\n",
            "==================================================\n",
            "답변의 근거가 된 출처:\n",
            "- 출처: llm_agent_research_paper.pdf, 페이지: 1\n",
            "- 출처: llm_agent_research_paper.pdf, 페이지: 2\n",
            "- 출처: llm_agent_research_paper.pdf, 페이지: 1\n"
          ]
        }
      ],
      "source": [
        "# 결과 출력\n",
        "print(f\"질문: {question}\\n\")\n",
        "print(\"=\"*50)\n",
        "print(f\"생성된 답변:\\n\")\n",
        "# textwrap을 사용하여 긴 답변을 자동으로 줄 바꿈\n",
        "wrapper = textwrap.TextWrapper(width=80, replace_whitespace=False)\n",
        "print(wrapper.fill(text=response[\"answer\"]))\n",
        "print(\"\\n\" + \"=\"*50)\n",
        "\n",
        "print(\"답변의 근거가 된 출처:\")\n",
        "for doc in response[\"context\"]:\n",
        "    print(f\"- 출처: {doc.metadata.get('source', 'N/A')}, 페이지: {doc.metadata.get('page', 'N/A')+1}\")"
      ]
    },
    {
      "cell_type": "code",
      "execution_count": 48,
      "metadata": {
        "executionInfo": {
          "elapsed": 1,
          "status": "ok",
          "timestamp": 1753192506793,
          "user": {
            "displayName": "Sungmin Han",
            "userId": "16133717747299446002"
          },
          "user_tz": -540
        },
        "id": "ukIiCeeXZ80K"
      },
      "outputs": [],
      "source": []
    }
  ],
  "metadata": {
    "colab": {
      "authorship_tag": "ABX9TyN4Gpp/MUh3V0YdUxJ1WX9B",
      "provenance": []
    },
    "kernelspec": {
      "display_name": "Python 3",
      "name": "python3"
    },
    "language_info": {
      "name": "python"
    }
  },
  "nbformat": 4,
  "nbformat_minor": 0
}
