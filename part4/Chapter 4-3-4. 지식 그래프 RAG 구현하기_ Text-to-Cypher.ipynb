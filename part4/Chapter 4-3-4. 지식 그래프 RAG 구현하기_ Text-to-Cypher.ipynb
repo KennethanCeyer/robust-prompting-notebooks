{
 "cells": [
  {
   "cell_type": "markdown",
   "metadata": {},
   "source": [
    "**Colab Link URL**\n",
    "- https://colab.research.google.com/drive/1HIGLcY2PICk2BE_aym9noJcPxhY4Q8Vb?usp=sharing\n",
    "\n",
    "이 노트북은 [Google Colab](https://colab.research.google.com/)에서 실행하시기에 최적화되어있습니다.\n",
    "상기 URL을 이용해서 코드를 실행 해보세요."
   ]
  },
  {
   "cell_type": "code",
   "execution_count": 12,
   "metadata": {
    "executionInfo": {
     "elapsed": 11009,
     "status": "ok",
     "timestamp": 1756082037606,
     "user": {
      "displayName": "Sungmin Han",
      "userId": "16133717747299446002"
     },
     "user_tz": -540
    },
    "id": "h8oLa_dMSJHL"
   },
   "outputs": [],
   "source": [
    "!pip install -U -q langchain langchain-community langchain-openai networkx"
   ]
  },
  {
   "cell_type": "code",
   "execution_count": 16,
   "metadata": {
    "executionInfo": {
     "elapsed": 731,
     "status": "ok",
     "timestamp": 1756082212573,
     "user": {
      "displayName": "Sungmin Han",
      "userId": "16133717747299446002"
     },
     "user_tz": -540
    },
    "id": "ZnExs3saU9xP"
   },
   "outputs": [],
   "source": [
    "import os\n",
    "\n",
    "from langchain_openai import ChatOpenAI\n",
    "from langchain_community.graphs.networkx_graph import NetworkxEntityGraph\n",
    "from langchain_community.graphs.networkx_graph import KnowledgeTriple\n",
    "from langchain.chains import GraphQAChain\n",
    "from google.colab import userdata"
   ]
  },
  {
   "cell_type": "code",
   "execution_count": 17,
   "metadata": {
    "executionInfo": {
     "elapsed": 1230,
     "status": "ok",
     "timestamp": 1756082219536,
     "user": {
      "displayName": "Sungmin Han",
      "userId": "16133717747299446002"
     },
     "user_tz": -540
    },
    "id": "zIU8BiWhVMOa"
   },
   "outputs": [],
   "source": [
    "OPENAI_API_KEY = userdata.get(\"OPENAI_API_KEY\")"
   ]
  },
  {
   "cell_type": "code",
   "execution_count": 18,
   "metadata": {
    "colab": {
     "base_uri": "https://localhost:8080/"
    },
    "executionInfo": {
     "elapsed": 845,
     "status": "ok",
     "timestamp": 1756082220394,
     "user": {
      "displayName": "Sungmin Han",
      "userId": "16133717747299446002"
     },
     "user_tz": -540
    },
    "id": "Py9UhnxWW8PI",
    "outputId": "6df1ed8b-1881-433c-afa5-148e40d06b25"
   },
   "outputs": [
    {
     "name": "stdout",
     "output_type": "stream",
     "text": [
      "--- NetworkX 지식 그래프에 샘플 데이터 주입 완료 ---\n"
     ]
    }
   ],
   "source": [
    "graph = NetworkxEntityGraph()\n",
    "\n",
    "# 그래프에 샘플 데이터 주입\n",
    "# (주어, 관계, 목적어) 형태의 트리플을 KnowledgeTriple 객체로 추가한다.\n",
    "graph.add_triple(KnowledgeTriple(\"톰 행크스\", \"ACTED_IN\", \"포레스트 검프\"))\n",
    "graph.add_triple(KnowledgeTriple(\"톰 행크스\", \"ACTED_IN\", \"캐스트 어웨이\"))\n",
    "graph.add_triple(KnowledgeTriple(\"톰 행크스\", \"ACTED_IN\", \"라이언 일병 구하기\"))\n",
    "graph.add_triple(KnowledgeTriple(\"로버트 저메키스\", \"DIRECTED\", \"포레스트 검프\"))\n",
    "graph.add_triple(KnowledgeTriple(\"로버트 저메키스\", \"DIRECTED\", \"캐스트 어웨이\"))\n",
    "graph.add_triple(KnowledgeTriple(\"스티븐 스필버그\", \"DIRECTED\", \"라이언 일병 구하기\"))\n",
    "print(\"--- NetworkX 지식 그래프에 샘플 데이터 주입 완료 ---\")"
   ]
  },
  {
   "cell_type": "code",
   "execution_count": 19,
   "metadata": {
    "colab": {
     "base_uri": "https://localhost:8080/"
    },
    "executionInfo": {
     "elapsed": 38,
     "status": "ok",
     "timestamp": 1756082220441,
     "user": {
      "displayName": "Sungmin Han",
      "userId": "16133717747299446002"
     },
     "user_tz": -540
    },
    "id": "xPOpOTjMiGjD",
    "outputId": "5eb239b3-3268-4b5a-b5e0-4f0b586be22a"
   },
   "outputs": [
    {
     "name": "stdout",
     "output_type": "stream",
     "text": [
      "그래프 트리플:\n",
      "[('톰 행크스', '포레스트 검프', 'ACTED_IN'), ('톰 행크스', '캐스트 어웨이', 'ACTED_IN'), ('톰 행크스', '라이언 일병 구하기', 'ACTED_IN'), ('로버트 저메키스', '포레스트 검프', 'DIRECTED'), ('로버트 저메키스', '캐스트 어웨이', 'DIRECTED'), ('스티븐 스필버그', '라이언 일병 구하기', 'DIRECTED')]\n"
     ]
    }
   ],
   "source": [
    "# 그래프 트리플 확인\n",
    "print(\"그래프 트리플:\")\n",
    "print(graph.get_triples())"
   ]
  },
  {
   "cell_type": "code",
   "execution_count": 20,
   "metadata": {
    "colab": {
     "base_uri": "https://localhost:8080/"
    },
    "executionInfo": {
     "elapsed": 1008,
     "status": "ok",
     "timestamp": 1756082221447,
     "user": {
      "displayName": "Sungmin Han",
      "userId": "16133717747299446002"
     },
     "user_tz": -540
    },
    "id": "b8csIyymYKP8",
    "outputId": "3df41be7-a714-474f-da01-4ba33029688f"
   },
   "outputs": [
    {
     "name": "stdout",
     "output_type": "stream",
     "text": [
      "--- Text-to-Graph QA 체인 생성 완료 ---\n"
     ]
    }
   ],
   "source": [
    "# LLM과 그래프를 연결하여 자연어 질문을 그래프 탐색으로 변환하고 실행하는 체인 생성\n",
    "llm = ChatOpenAI(\n",
    "    model=\"gpt-5-mini\",\n",
    "    openai_api_key=OPENAI_API_KEY,\n",
    ")\n",
    "chain = GraphQAChain.from_llm(\n",
    "    llm=llm,\n",
    "    graph=graph,\n",
    "    verbose=True,\n",
    ")\n",
    "print(\"--- Text-to-Graph QA 체인 생성 완료 ---\")"
   ]
  },
  {
   "cell_type": "code",
   "execution_count": 21,
   "metadata": {
    "colab": {
     "base_uri": "https://localhost:8080/"
    },
    "executionInfo": {
     "elapsed": 9127,
     "status": "ok",
     "timestamp": 1756082230575,
     "user": {
      "displayName": "Sungmin Han",
      "userId": "16133717747299446002"
     },
     "user_tz": -540
    },
    "id": "RPK2cQImZWKV",
    "outputId": "cfd1e86e-3522-4687-d8f1-565992b4b500"
   },
   "outputs": [
    {
     "name": "stdout",
     "output_type": "stream",
     "text": [
      "\n",
      "--- [사례 1] 단일 관계 질문 실행 ---\n",
      "\n",
      "\n",
      "\u001b[1m> Entering new GraphQAChain chain...\u001b[0m\n",
      "Entities Extracted:\n",
      "\u001b[32;1m\u001b[1;3m톰 행크스\u001b[0m\n",
      "Full Context:\n",
      "\u001b[32;1m\u001b[1;3m톰 행크스 ACTED_IN 포레스트 검프\n",
      "톰 행크스 ACTED_IN 캐스트 어웨이\n",
      "톰 행크스 ACTED_IN 라이언 일병 구하기\u001b[0m\n",
      "\n",
      "\u001b[1m> Finished chain.\u001b[0m\n",
      "\n",
      "최종 답변 1:\n",
      "톰 행크스가 출연한 영화는 다음과 같습니다: 포레스트 검프, 캐스트 어웨이, 라이언 일병 구하기.\n",
      "\n",
      "==================================================\n",
      "\n"
     ]
    }
   ],
   "source": [
    "# 체인 실행 및 결과 분석\n",
    "print(\"\\n--- [사례 1] 단일 관계 질문 실행 ---\")\n",
    "question1 = \"톰 행크스가 출연한 영화는 무엇인가요?\"\n",
    "response1 = chain.invoke({\"query\": question1})\n",
    "print(\"\\n최종 답변 1:\")\n",
    "print(response1[\"result\"])\n",
    "\n",
    "print(\"\\n\" + \"=\"*50 + \"\\n\")"
   ]
  },
  {
   "cell_type": "code",
   "execution_count": 22,
   "metadata": {
    "colab": {
     "base_uri": "https://localhost:8080/"
    },
    "executionInfo": {
     "elapsed": 9456,
     "status": "ok",
     "timestamp": 1756082240032,
     "user": {
      "displayName": "Sungmin Han",
      "userId": "16133717747299446002"
     },
     "user_tz": -540
    },
    "id": "HpOkJYncZvbs",
    "outputId": "a4ae76ec-c127-4653-90b8-f368b1a3ffe0"
   },
   "outputs": [
    {
     "name": "stdout",
     "output_type": "stream",
     "text": [
      "--- [사례 2] 다중 홉(Multi-hop) 관계 질문 실행 ---\n",
      "\n",
      "\n",
      "\u001b[1m> Entering new GraphQAChain chain...\u001b[0m\n",
      "Entities Extracted:\n",
      "\u001b[32;1m\u001b[1;3m로버트 저메키스, 톰 행크스\u001b[0m\n",
      "Full Context:\n",
      "\u001b[32;1m\u001b[1;3m로버트 저메키스 DIRECTED 포레스트 검프\n",
      "로버트 저메키스 DIRECTED 캐스트 어웨이\n",
      "톰 행크스 ACTED_IN 포레스트 검프\n",
      "톰 행크스 ACTED_IN 캐스트 어웨이\n",
      "톰 행크스 ACTED_IN 라이언 일병 구하기\u001b[0m\n",
      "\n",
      "\u001b[1m> Finished chain.\u001b[0m\n",
      "\n",
      "최종 답변 2:\n",
      "로버트 저메키스가 감독하고 톰 행크스가 출연한 영화는 \"포레스트 검프\"와 \"캐스트 어웨이\"입니다.\n"
     ]
    }
   ],
   "source": [
    "print(\"--- [사례 2] 다중 홉(Multi-hop) 관계 질문 실행 ---\")\n",
    "question2 = \"로버트 저메키스가 감독하고 톰 행크스가 출연한 영화는 무엇인가요?\"\n",
    "response2 = chain.invoke({\"query\": question2})\n",
    "print(\"\\n최종 답변 2:\")\n",
    "print(response2[\"result\"])"
   ]
  },
  {
   "cell_type": "code",
   "execution_count": 22,
   "metadata": {
    "executionInfo": {
     "elapsed": 2,
     "status": "ok",
     "timestamp": 1756082240042,
     "user": {
      "displayName": "Sungmin Han",
      "userId": "16133717747299446002"
     },
     "user_tz": -540
    },
    "id": "-49kJL5CkGql"
   },
   "outputs": [],
   "source": []
  }
 ],
 "metadata": {
  "colab": {
   "authorship_tag": "ABX9TyOZu5Nkqz3bKKtqVJHiKYr8",
   "provenance": []
  },
  "kernelspec": {
   "display_name": "Python 3",
   "name": "python3"
  },
  "language_info": {
   "name": "python"
  }
 },
 "nbformat": 4,
 "nbformat_minor": 0
}
