{
  "cells": [
    {
      "cell_type": "markdown",
      "metadata": {},
      "source": [
        "**Colab Link URL**\n",
        "- https://colab.research.google.com/drive/1CKfHxFwzxJ3NfrqTBsgtulWAGDnzHe5M?usp=sharing\n",
        "\n",
        "이 노트북은 [Google Colab](https://colab.research.google.com/)에서 실행하시기에 최적화되어있습니다.\n",
        "상기 URL을 이용해서 코드를 실행 해보세요."
      ]
    },
    {
      "cell_type": "code",
      "execution_count": 1,
      "metadata": {
        "colab": {
          "base_uri": "https://localhost:8080/"
        },
        "executionInfo": {
          "elapsed": 23694,
          "status": "ok",
          "timestamp": 1756082495535,
          "user": {
            "displayName": "Sungmin Han",
            "userId": "16133717747299446002"
          },
          "user_tz": -540
        },
        "id": "h8oLa_dMSJHL",
        "outputId": "1e674f8a-f57f-4798-81c8-fb27a2aedd54"
      },
      "outputs": [
        {
          "name": "stdout",
          "output_type": "stream",
          "text": [
            "\u001b[2K     \u001b[90m━━━━━━━━━━━━━━━━━━━━━━━━━━━━━━━━━━━━━━━━\u001b[0m \u001b[32m43.7/43.7 kB\u001b[0m \u001b[31m2.0 MB/s\u001b[0m eta \u001b[36m0:00:00\u001b[0m\n",
            "\u001b[2K   \u001b[90m━━━━━━━━━━━━━━━━━━━━━━━━━━━━━━━━━━━━━━━━\u001b[0m \u001b[32m153.3/153.3 kB\u001b[0m \u001b[31m5.4 MB/s\u001b[0m eta \u001b[36m0:00:00\u001b[0m\n",
            "\u001b[2K   \u001b[90m━━━━━━━━━━━━━━━━━━━━━━━━━━━━━━━━━━━━━━━━\u001b[0m \u001b[32m2.5/2.5 MB\u001b[0m \u001b[31m33.9 MB/s\u001b[0m eta \u001b[36m0:00:00\u001b[0m\n",
            "\u001b[2K   \u001b[90m━━━━━━━━━━━━━━━━━━━━━━━━━━━━━━━━━━━━━━━━\u001b[0m \u001b[32m74.5/74.5 kB\u001b[0m \u001b[31m5.4 MB/s\u001b[0m eta \u001b[36m0:00:00\u001b[0m\n",
            "\u001b[2K   \u001b[90m━━━━━━━━━━━━━━━━━━━━━━━━━━━━━━━━━━━━━━━━\u001b[0m \u001b[32m31.4/31.4 MB\u001b[0m \u001b[31m39.4 MB/s\u001b[0m eta \u001b[36m0:00:00\u001b[0m\n",
            "\u001b[2K   \u001b[90m━━━━━━━━━━━━━━━━━━━━━━━━━━━━━━━━━━━━━━━━\u001b[0m \u001b[32m43.9/43.9 kB\u001b[0m \u001b[31m2.3 MB/s\u001b[0m eta \u001b[36m0:00:00\u001b[0m\n",
            "\u001b[2K   \u001b[90m━━━━━━━━━━━━━━━━━━━━━━━━━━━━━━━━━━━━━━━━\u001b[0m \u001b[32m52.6/52.6 kB\u001b[0m \u001b[31m2.6 MB/s\u001b[0m eta \u001b[36m0:00:00\u001b[0m\n",
            "\u001b[2K   \u001b[90m━━━━━━━━━━━━━━━━━━━━━━━━━━━━━━━━━━━━━━━━\u001b[0m \u001b[32m50.9/50.9 kB\u001b[0m \u001b[31m1.9 MB/s\u001b[0m eta \u001b[36m0:00:00\u001b[0m\n",
            "\u001b[2K   \u001b[90m━━━━━━━━━━━━━━━━━━━━━━━━━━━━━━━━━━━━━━━━\u001b[0m \u001b[32m216.7/216.7 kB\u001b[0m \u001b[31m5.8 MB/s\u001b[0m eta \u001b[36m0:00:00\u001b[0m\n",
            "\u001b[?25h"
          ]
        }
      ],
      "source": [
        "!pip install -q langchain langgraph langchain-community langchain-openai faiss-cpu pydantic"
      ]
    },
    {
      "cell_type": "code",
      "execution_count": 2,
      "metadata": {
        "executionInfo": {
          "elapsed": 5714,
          "status": "ok",
          "timestamp": 1756082501253,
          "user": {
            "displayName": "Sungmin Han",
            "userId": "16133717747299446002"
          },
          "user_tz": -540
        },
        "id": "hV7EtDd8rszj"
      },
      "outputs": [],
      "source": [
        "import os\n",
        "from typing import List, Dict, TypedDict\n",
        "\n",
        "from langchain_openai import ChatOpenAI, OpenAIEmbeddings\n",
        "from langchain_core.output_parsers import StrOutputParser, JsonOutputParser\n",
        "from langchain_core.prompts import ChatPromptTemplate\n",
        "from langchain.schema import Document\n",
        "from langchain_community.vectorstores import FAISS\n",
        "from langgraph.graph import StateGraph, END\n",
        "from google.colab import userdata"
      ]
    },
    {
      "cell_type": "code",
      "execution_count": 3,
      "metadata": {
        "executionInfo": {
          "elapsed": 583,
          "status": "ok",
          "timestamp": 1756082501838,
          "user": {
            "displayName": "Sungmin Han",
            "userId": "16133717747299446002"
          },
          "user_tz": -540
        },
        "id": "YtqjPX3jrwG_"
      },
      "outputs": [],
      "source": [
        "OPENAI_API_KEY = userdata.get(\"OPENAI_API_KEY\")"
      ]
    },
    {
      "cell_type": "code",
      "execution_count": 4,
      "metadata": {
        "executionInfo": {
          "elapsed": 1,
          "status": "ok",
          "timestamp": 1756082501841,
          "user": {
            "displayName": "Sungmin Han",
            "userId": "16133717747299446002"
          },
          "user_tz": -540
        },
        "id": "ZnExs3saU9xP"
      },
      "outputs": [],
      "source": [
        "# LangGraph 상태 정의\n",
        "# 루프를 통해 전달될 데이터 구조를 정의\n",
        "class GraphState(TypedDict):\n",
        "    question: str\n",
        "    documents: List[Document]\n",
        "    answer: str"
      ]
    },
    {
      "cell_type": "code",
      "execution_count": 6,
      "metadata": {
        "executionInfo": {
          "elapsed": 3749,
          "status": "ok",
          "timestamp": 1756082530318,
          "user": {
            "displayName": "Sungmin Han",
            "userId": "16133717747299446002"
          },
          "user_tz": -540
        },
        "id": "MEhtVmEcr4jy"
      },
      "outputs": [],
      "source": [
        "# 가상의 기술 문서를 지식 베이스로 사용\n",
        "rag_documents = [\n",
        "    Document(\n",
        "        page_content=\"ACA의 동적 계획 수립 모듈은 '리플렉션(Reflection)' 메커니즘을 통해 작동합니다. 이 메커니즘은 실패 경험으로부터 학습하고, 그 원인을 분석하여 다음 행동 계획을 최적화하는 과정을 포함합니다.\",\n",
        "        metadata={\"source\": \"ACA_Architecture_v2.pdf\"}\n",
        "    ),\n",
        "    Document(\n",
        "        page_content=\"ACA의 장기 기억 장치는 벡터 데이터베이스를 활용하여 과거의 성공 및 실패 경험을 저장하고 검색합니다.\",\n",
        "        metadata={\"source\": \"ACA_Memory_v2.pdf\"}\n",
        "    ),\n",
        "]\n",
        "vectorstore = FAISS.from_documents(rag_documents, OpenAIEmbeddings(api_key=OPENAI_API_KEY))\n",
        "retriever = vectorstore.as_retriever()"
      ]
    },
    {
      "cell_type": "code",
      "execution_count": 7,
      "metadata": {
        "executionInfo": {
          "elapsed": 228,
          "status": "ok",
          "timestamp": 1756082530549,
          "user": {
            "displayName": "Sungmin Han",
            "userId": "16133717747299446002"
          },
          "user_tz": -540
        },
        "id": "fGhgj6Hyr8ds"
      },
      "outputs": [],
      "source": [
        "llm = ChatOpenAI(\n",
        "    model=\"gpt-5-mini\",\n",
        "    api_key=OPENAI_API_KEY,\n",
        ")"
      ]
    },
    {
      "cell_type": "code",
      "execution_count": 8,
      "metadata": {
        "executionInfo": {
          "elapsed": 13,
          "status": "ok",
          "timestamp": 1756082530564,
          "user": {
            "displayName": "Sungmin Han",
            "userId": "16133717747299446002"
          },
          "user_tz": -540
        },
        "id": "zIU8BiWhVMOa"
      },
      "outputs": [],
      "source": [
        "# 문서 검색 노드\n",
        "def retrieve_node(state: GraphState) -> GraphState:\n",
        "    print(\"--- [노드 실행] 문서 검색 ---\")\n",
        "    documents = retriever.invoke(state[\"question\"])\n",
        "    return {\"documents\": documents}"
      ]
    },
    {
      "cell_type": "code",
      "execution_count": 9,
      "metadata": {
        "executionInfo": {
          "elapsed": 12,
          "status": "ok",
          "timestamp": 1756082530577,
          "user": {
            "displayName": "Sungmin Han",
            "userId": "16133717747299446002"
          },
          "user_tz": -540
        },
        "id": "Py9UhnxWW8PI"
      },
      "outputs": [],
      "source": [
        "# 답변 생성 노드\n",
        "def generate_node(state: GraphState) -> GraphState:\n",
        "    print(\"--- [노드 실행] 답변 생성 ---\")\n",
        "    rag_chain = ChatPromptTemplate.from_template(\n",
        "        \"다음 문맥 정보를 바탕으로 질문에 답변하세요:\\n\\n문맥: {context}\\n\\n질문: {question}\"\n",
        "    ) | llm | StrOutputParser()\n",
        "\n",
        "    def format_docs(docs):\n",
        "        return \"\\n\\n\".join(doc.page_content for doc in docs)\n",
        "\n",
        "    answer = rag_chain.invoke({\"context\": format_docs(state[\"documents\"]), \"question\": state[\"question\"]})\n",
        "    return {\"answer\": answer}"
      ]
    },
    {
      "cell_type": "code",
      "execution_count": 10,
      "metadata": {
        "executionInfo": {
          "elapsed": 193,
          "status": "ok",
          "timestamp": 1756082530772,
          "user": {
            "displayName": "Sungmin Han",
            "userId": "16133717747299446002"
          },
          "user_tz": -540
        },
        "id": "xPOpOTjMiGjD"
      },
      "outputs": [],
      "source": [
        "# 문서 비판(Grade) 노드\n",
        "def grade_documents_node(state: GraphState) -> GraphState:\n",
        "    print(\"--- [노드 실행] 검색된 문서 평가 ---\")\n",
        "    grader_chain = ChatPromptTemplate.from_template(\n",
        "        \"\"\"당신은 검색된 문서가 사용자의 질문에 답변하기에 충분한 정보를 담고 있는지 평가하는 전문가입니다.\n",
        "        'yes' 또는 'no'로만 답변해주세요.\n",
        "\n",
        "        검색된 문서: {documents_text}\n",
        "        사용자 질문: {question}\"\"\"\n",
        "    ) | llm | StrOutputParser()\n",
        "\n",
        "    def format_docs(docs):\n",
        "        return \"\\n\\n\".join(doc.page_content for doc in docs)\n",
        "\n",
        "    result = grader_chain.invoke({\"question\": state[\"question\"], \"documents_text\": format_docs(state[\"documents\"])})\n",
        "    print(f\"평가 결과: {result}\")\n",
        "\n",
        "    if \"yes\" in result.lower():\n",
        "        return {\"documents\": state[\"documents\"]}\n",
        "    else:\n",
        "        return {\"documents\": []}"
      ]
    },
    {
      "cell_type": "code",
      "execution_count": 11,
      "metadata": {
        "executionInfo": {
          "elapsed": 1,
          "status": "ok",
          "timestamp": 1756082530774,
          "user": {
            "displayName": "Sungmin Han",
            "userId": "16133717747299446002"
          },
          "user_tz": -540
        },
        "id": "b8csIyymYKP8"
      },
      "outputs": [],
      "source": [
        "# 문서 평가 결과에 따라 분기\n",
        "def decide_to_generate(state: GraphState) -> str:\n",
        "    print(\"--- [엣지 결정] 답변 생성 여부 ---\")\n",
        "    if not state[\"documents\"]:\n",
        "        print(\"결론: 검색된 문서의 관련성이 낮아 종료합니다.\")\n",
        "        return \"end\"\n",
        "    else:\n",
        "        print(\"결론: 검색된 문서의 관련성이 높아 답변을 생성합니다.\")\n",
        "        return \"generate\""
      ]
    },
    {
      "cell_type": "code",
      "execution_count": 12,
      "metadata": {
        "executionInfo": {
          "elapsed": 63,
          "status": "ok",
          "timestamp": 1756082531011,
          "user": {
            "displayName": "Sungmin Han",
            "userId": "16133717747299446002"
          },
          "user_tz": -540
        },
        "id": "RPK2cQImZWKV"
      },
      "outputs": [],
      "source": [
        "# 그래프 구성\n",
        "workflow = StateGraph(GraphState)\n",
        "workflow.add_node(\"retrieve\", retrieve_node)\n",
        "workflow.add_node(\"grade_documents\", grade_documents_node)\n",
        "workflow.add_node(\"generate\", generate_node)\n",
        "\n",
        "workflow.set_entry_point(\"retrieve\")\n",
        "workflow.add_edge(\"retrieve\", \"grade_documents\")\n",
        "workflow.add_conditional_edges(\"grade_documents\", decide_to_generate, {\"generate\": \"generate\", \"end\": END})\n",
        "workflow.add_edge(\"generate\", END)\n",
        "app = workflow.compile()"
      ]
    },
    {
      "cell_type": "code",
      "execution_count": 13,
      "metadata": {
        "colab": {
          "base_uri": "https://localhost:8080/"
        },
        "executionInfo": {
          "elapsed": 18766,
          "status": "ok",
          "timestamp": 1756082550277,
          "user": {
            "displayName": "Sungmin Han",
            "userId": "16133717747299446002"
          },
          "user_tz": -540
        },
        "id": "HpOkJYncZvbs",
        "outputId": "5ce0aeb5-06e2-409f-82bd-04d7f9afcfeb"
      },
      "outputs": [
        {
          "name": "stdout",
          "output_type": "stream",
          "text": [
            "--- [사례 1: 성공 케이스] ---\n",
            "질문: ACA의 동적 계획 수립은 어떻게 작동하나요?\n",
            "\n",
            "--- [노드 실행] 문서 검색 ---\n",
            "--- [노드 실행] 검색된 문서 평가 ---\n",
            "평가 결과: yes\n",
            "--- [엣지 결정] 답변 생성 여부 ---\n",
            "결론: 검색된 문서의 관련성이 높아 답변을 생성합니다.\n",
            "--- [노드 실행] 답변 생성 ---\n",
            "\n",
            "--- 최종 결과 (사례 1) ---\n",
            "ACA의 동적 계획 수립은 다음과 같은 순환적 프로세스로 작동합니다.\n",
            "\n",
            "1. 실패 감지 및 기록  \n",
            "   - 행동 실행 중 실패(또는 기대와 다른 결과)를 감지하면 그 경험을 벡터 형태로 인코딩하여 장기 기억에 기록합니다.\n",
            "\n",
            "2. 유사 경험 검색(벡터 DB 활용)  \n",
            "   - 벡터 데이터베이스에서 현재 상황과 유사한 과거의 성공·실패 사례를 유사도 검색으로 빠르게 불러옵니다.\n",
            "\n",
            "3. 리플렉션(원인 분석)  \n",
            "   - 불러온 사례들과 현재 실패를 비교·분석하여 실패의 원인(환경 요인, 전략·파라미터 문제 등)을 도출합니다.\n",
            "\n",
            "4. 계획 최적화 및 재생성  \n",
            "   - 분석 결과를 바탕으로 다음 행동 계획을 조정·재생성합니다(전략 변경, 파라미터 튜닝, 대체 행동 선택 등).\n",
            "\n",
            "5. 실행 및 피드백 루프  \n",
            "   - 수정된 계획을 실행하고 결과를 모니터링하여 성공이면 강화, 실패면 다시 기록하여 반복 학습합니다.\n",
            "\n",
            "요약하면, ACA는 실패를 벡터형태로 장기기억에 저장·검색하고, 리플렉션을 통해 원인을 분석한 뒤 그 분석 결과로 다음 행동 계획을 최적화하는 반복적 학습-계획 수립 구조를 가집니다.\n"
          ]
        }
      ],
      "source": [
        "# 사례 1: 관련성 높은 질문 (성공 케이스)\n",
        "print(\"--- [사례 1: 성공 케이스] ---\")\n",
        "question_yes = \"ACA의 동적 계획 수립은 어떻게 작동하나요?\"\n",
        "print(f\"질문: {question_yes}\\n\")\n",
        "result_yes = app.invoke({\"question\": question_yes})\n",
        "print(\"\\n--- 최종 결과 (사례 1) ---\")\n",
        "print(result_yes.get(\"answer\", \"답변 생성에 실패했습니다.\"))"
      ]
    },
    {
      "cell_type": "code",
      "execution_count": 14,
      "metadata": {
        "colab": {
          "base_uri": "https://localhost:8080/"
        },
        "executionInfo": {
          "elapsed": 4015,
          "status": "ok",
          "timestamp": 1756082554295,
          "user": {
            "displayName": "Sungmin Han",
            "userId": "16133717747299446002"
          },
          "user_tz": -540
        },
        "id": "-49kJL5CkGql",
        "outputId": "969ac1e8-50ec-4753-fd1d-eeffbcfc65b3"
      },
      "outputs": [
        {
          "name": "stdout",
          "output_type": "stream",
          "text": [
            "--- [사례 2: 실패 방지 케이스] ---\n",
            "질문: 음악 스트리밍 서비스의 역사에 대해 알려줘.\n",
            "\n",
            "--- [노드 실행] 문서 검색 ---\n",
            "--- [노드 실행] 검색된 문서 평가 ---\n",
            "평가 결과: no\n",
            "--- [엣지 결정] 답변 생성 여부 ---\n",
            "결론: 검색된 문서의 관련성이 낮아 종료합니다.\n",
            "\n",
            "--- 최종 결과 (사례 2) ---\n",
            "답변 생성에 실패했습니다.\n"
          ]
        }
      ],
      "source": [
        "# 사례 2: 관련성 낮은 질문 (실패 방지 케이스)\n",
        "print(\"--- [사례 2: 실패 방지 케이스] ---\")\n",
        "question_no = \"음악 스트리밍 서비스의 역사에 대해 알려줘.\"\n",
        "print(f\"질문: {question_no}\\n\")\n",
        "result_no = app.invoke({\"question\": question_no})\n",
        "print(\"\\n--- 최종 결과 (사례 2) ---\")\n",
        "print(result_no.get(\"answer\", \"답변 생성에 실패했습니다.\"))"
      ]
    },
    {
      "cell_type": "code",
      "execution_count": 14,
      "metadata": {
        "executionInfo": {
          "elapsed": 2,
          "status": "ok",
          "timestamp": 1756082554300,
          "user": {
            "displayName": "Sungmin Han",
            "userId": "16133717747299446002"
          },
          "user_tz": -540
        },
        "id": "TIMsuUQyt_Tw"
      },
      "outputs": [],
      "source": []
    }
  ],
  "metadata": {
    "colab": {
      "authorship_tag": "ABX9TyNdgaPxnsryzVekRa67YJc5",
      "provenance": []
    },
    "kernelspec": {
      "display_name": "Python 3",
      "name": "python3"
    },
    "language_info": {
      "name": "python"
    }
  },
  "nbformat": 4,
  "nbformat_minor": 0
}
