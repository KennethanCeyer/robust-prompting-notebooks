{
 "cells": [
  {
   "cell_type": "markdown",
   "metadata": {},
   "source": [
    "**Colab Link URL**\n",
    "- https://colab.research.google.com/drive/1OYMnMSf0By9S5xvnTahgiQd0TsQQfDAL?usp=sharing\n",
    "\n",
    "이 노트북은 [Google Colab](https://colab.research.google.com/)에서 실행하시기에 최적화되어있습니다.\n",
    "상기 URL을 이용해서 코드를 실행 해보세요."
   ]
  },
  {
   "cell_type": "code",
   "execution_count": 1,
   "metadata": {
    "executionInfo": {
     "elapsed": 5,
     "status": "ok",
     "timestamp": 1756078055569,
     "user": {
      "displayName": "Sungmin Han",
      "userId": "16133717747299446002"
     },
     "user_tz": -540
    },
    "id": "DJij1CkI0urN"
   },
   "outputs": [],
   "source": [
    "import re"
   ]
  },
  {
   "cell_type": "code",
   "execution_count": 2,
   "metadata": {
    "executionInfo": {
     "elapsed": 23,
     "status": "ok",
     "timestamp": 1756078055603,
     "user": {
      "displayName": "Sungmin Han",
      "userId": "16133717747299446002"
     },
     "user_tz": -540
    },
    "id": "JrZWAy5Y0v8H"
   },
   "outputs": [],
   "source": [
    "# --- 1. 도구(Tool) 정의 ---\n",
    "def is_prime_tool(number: int) -> str:\n",
    "    \"\"\"주어진 숫자가 소수인지 판별하는 도구. 의도된 버그를 포함하고 있음.\"\"\"\n",
    "\n",
    "    print(f\"  [도구 실행: is_prime_tool({number})]\")\n",
    "    if not isinstance(number, int) or number < 2:\n",
    "        return \"False\"\n",
    "    # 버그: 3으로 나누어 떨어지는 3 이상의 홀수(9, 15 등)를 소수로 잘못 판단\n",
    "    if number % 3 == 0 and number > 3:\n",
    "        return \"True\"\n",
    "    for i in range(2, int(number**0.5) + 1):\n",
    "        if number % i == 0:\n",
    "            return \"False\"\n",
    "    return \"True\"\n",
    "\n",
    "\n",
    "def code_interpreter(code: str) -> str:\n",
    "    print(f\"  [도구 실행: code_interpreter('{code}')]\")\n",
    "    import io, contextlib\n",
    "    out_buf, err_buf = io.StringIO(), io.StringIO()\n",
    "    try:\n",
    "        with contextlib.redirect_stdout(out_buf), contextlib.redirect_stderr(err_buf):\n",
    "            exec(code, {})\n",
    "    except Exception as e:\n",
    "        # exec 내부 예외 메시지도 err_buf에 들어가므로 그대로 반환해도 됨\n",
    "        pass\n",
    "    out, err = out_buf.getvalue(), err_buf.getvalue()\n",
    "    if err.strip():\n",
    "        return (out + (\"\\n\" if out else \"\") + err).rstrip(\"\\n\")\n",
    "    return out if out.strip() else \"코드가 실행되었지만, 출력은 없습니다.\""
   ]
  },
  {
   "cell_type": "code",
   "execution_count": 14,
   "metadata": {
    "executionInfo": {
     "elapsed": 37,
     "status": "ok",
     "timestamp": 1756078247656,
     "user": {
      "displayName": "Sungmin Han",
      "userId": "16133717747299446002"
     },
     "user_tz": -540
    },
    "id": "ZnExs3saU9xP"
   },
   "outputs": [],
   "source": [
    "# --- 2. LLM 응답 시뮬레이션 ---\n",
    "# 실제로는 LLM API를 호출해야 하지만, 예제에서는 각 단계별 응답을 미리 정의한다.\n",
    "def get_simulated_llm_response(prompt_history: str, task: str) -> str:\n",
    "    if \"15\" in task and \"검증\" in prompt_history:  # 두 번째 시도\n",
    "        if \"is_prime_tool(15)\" not in prompt_history:\n",
    "            return \"사고: 15가 소수인지 확인해야 한다. is_prime_tool을 사용할 수 있지만, 과거 경험에 비추어 볼 때 그 결과를 검증해야 한다. 먼저 도구를 사용하고, 그 결과가 True이면 검증 코드를 실행하자.\\n행동: is_prime_tool(15)\"\n",
    "        if \"Factor found\" in prompt_history:\n",
    "            return \"사고: 검증 코드를 통해 15가 다른 수로 나누어지는 것을 확인했다. 따라서 is_prime_tool의 결과는 틀렸고, 15는 소수가 아니다. 이제 정확한 최종 답변을 할 수 있다.\\n행동: Finish[15는 3과 5로 나누어지므로 소수가 아닙니다.]\"\n",
    "        if \"관찰: True\" in prompt_history:\n",
    "            return \"사고: 도구는 15가 소수라고 했지만, 나는 이 결과를 믿을 수 없다. 성찰에서 얻은 교훈대로, 15를 나누어보는 검증 코드를 실행해야겠다.\\n행동: code_interpreter(\\\"for i in range(2, int(15**0.5)+1):\\\\n    if 15 % i == 0:\\\\n        print('Factor found')\\\")\"\n",
    "    else:  # 첫 번째 시도 (9에 대한 판별)\n",
    "        if \"is_prime_tool(9)\" not in prompt_history:\n",
    "            return \"사고: 9가 소수인지 확인해야 한다. is_prime_tool을 사용하면 되겠다.\\n행동: is_prime_tool(9)\"\n",
    "        else:\n",
    "            return \"사고: 도구가 9는 소수라고 알려줬다. 이 결과를 바탕으로 함수를 작성하여 제출하자.\\n행동: Finish[9는 소수입니다.]\"\n"
   ]
  },
  {
   "cell_type": "code",
   "execution_count": 15,
   "metadata": {
    "executionInfo": {
     "elapsed": 2,
     "status": "ok",
     "timestamp": 1756078249463,
     "user": {
      "displayName": "Sungmin Han",
      "userId": "16133717747299446002"
     },
     "user_tz": -540
    },
    "id": "7yHFmf8wU_cR"
   },
   "outputs": [],
   "source": [
    "# --- 3. 에이전트 실행 및 리플렉션 로직 ---\n",
    "reflection_memory: list[str] = []\n",
    "\n",
    "def run_agent(task: str):\n",
    "    \"\"\"ReAct 루프를 실행하고, 실패 시 실행 궤적을 반환하는 함수\"\"\"\n",
    "    prompt_history = f\"과업: {task}\\n\"\n",
    "    if reflection_memory:\n",
    "        prompt_history += \"\\n[과거의 실패로부터 얻은 교훈]\\n\"\n",
    "        prompt_history += \"\\n\".join(reflection_memory)\n",
    "        prompt_history += \"\\n\\n[새로운 과업 시작]\\n\"\n",
    "\n",
    "    for i in range(5): # 최대 5턴\n",
    "        llm_response = get_simulated_llm_response(prompt_history, task)\n",
    "        prompt_history += f\"{llm_response}\\n\"\n",
    "\n",
    "        action_match = re.search(r\"행동: (.*?)$\", llm_response, re.DOTALL)\n",
    "        if not action_match:\n",
    "            return prompt_history, \"실패 (행동 없음)\"\n",
    "\n",
    "        action = action_match.group(1).strip()\n",
    "\n",
    "        if action.startswith(\"is_prime_tool\"):\n",
    "            number = int(re.search(r\"(\\d+)\", action).group(1))\n",
    "            observation = is_prime_tool(number)\n",
    "        elif action.startswith(\"code_interpreter\"):\n",
    "            code = action[len(\"code_interpreter(\"):-1].strip('\"')\n",
    "            observation = code_interpreter(code)\n",
    "        elif action.startswith(\"Finish\"):\n",
    "            final_answer = action[len(\"Finish[\"):-1]\n",
    "\n",
    "            return prompt_history, final_answer\n",
    "\n",
    "        else:\n",
    "            observation = \"알 수 없는 행동입니다.\"\n",
    "\n",
    "        prompt_history += f\"관찰: {observation}\\n\"\n",
    "\n",
    "    return prompt_history, \"실패 (최대 턴 초과)\""
   ]
  },
  {
   "cell_type": "code",
   "execution_count": 16,
   "metadata": {
    "colab": {
     "base_uri": "https://localhost:8080/"
    },
    "executionInfo": {
     "elapsed": 38,
     "status": "ok",
     "timestamp": 1756078250111,
     "user": {
      "displayName": "Sungmin Han",
      "userId": "16133717747299446002"
     },
     "user_tz": -540
    },
    "id": "VyxbqztA3-Tj",
    "outputId": "99b844f6-16c4-4d0a-e704-38b81c9cf695"
   },
   "outputs": [
    {
     "name": "stdout",
     "output_type": "stream",
     "text": [
      "--- 첫 번째 시도 (과업: 9가 소수인지 판별) ---\n",
      "  [도구 실행: is_prime_tool(9)]\n",
      "\n",
      "--- 최종 결과 ---\n",
      "9는 소수입니다.\n",
      "------------------------------\n"
     ]
    }
   ],
   "source": [
    "# --- 4. 전체 시나리오 실행 ---\n",
    "# 첫 번째 시도\n",
    "print(\"--- 첫 번째 시도 (과업: 9가 소수인지 판별) ---\")\n",
    "trajectory_1, result_1 = run_agent(\"9가 소수인지 판별하고 최종 결론을 내리세요.\")\n",
    "print(\"\\n--- 최종 결과 ---\")\n",
    "print(result_1)\n",
    "print(\"-\" * 30)"
   ]
  },
  {
   "cell_type": "code",
   "execution_count": 17,
   "metadata": {
    "colab": {
     "base_uri": "https://localhost:8080/"
    },
    "executionInfo": {
     "elapsed": 6,
     "status": "ok",
     "timestamp": 1756078251487,
     "user": {
      "displayName": "Sungmin Han",
      "userId": "16133717747299446002"
     },
     "user_tz": -540
    },
    "id": "eTLMsbU03AJh",
    "outputId": "81bce3ad-7a50-4007-bea4-81971e70af5c"
   },
   "outputs": [
    {
     "name": "stdout",
     "output_type": "stream",
     "text": [
      "\n",
      "--- 성찰 단계 시작 ---\n",
      "생성된 성찰: 실패 원인은 is_prime_tool의 출력을 맹신했기 때문이다. 도구가 버그를 가지고 있을 수 있다. 더 나은 전략은, 도구가 True를 반환하더라도 검증 단계를 추가하는 것이다. 예를 들어, 코드 실행기를 사용해 2부터 해당 숫자의 제곱근까지 나누어보는 코드를 실행하여 실제로 나누어지는 수가 없는지 확인해야 한다.\n",
      "------------------------------\n"
     ]
    }
   ],
   "source": [
    "# 평가 및 성찰\n",
    "is_success_1 = (result_1 == \"9는 소수가 아닙니다.\")\n",
    "if not is_success_1:\n",
    "    print(\"\\n--- 성찰 단계 시작 ---\")\n",
    "    # 실제로는 LLM을 호출하여 성찰 결과를 생성해야 한다.\n",
    "    reflection_prompt = f\"실행 궤적:\\n{trajectory_1}\\n\\n위 에이전트는 9를 소수라고 잘못 판단하여 실패했다. 실패의 원인과, is_prime_tool의 결과를 더 신뢰성 있게 사용하는 전략을 제안하라.\"\n",
    "    generated_reflection = \"실패 원인은 is_prime_tool의 출력을 맹신했기 때문이다. 도구가 버그를 가지고 있을 수 있다. 더 나은 전략은, 도구가 True를 반환하더라도 검증 단계를 추가하는 것이다. 예를 들어, 코드 실행기를 사용해 2부터 해당 숫자의 제곱근까지 나누어보는 코드를 실행하여 실제로 나누어지는 수가 없는지 확인해야 한다.\"\n",
    "    reflection_memory.append(generated_reflection)\n",
    "    print(\"생성된 성찰: \" + generated_reflection)\n",
    "    print(\"-\" * 30)"
   ]
  },
  {
   "cell_type": "code",
   "execution_count": 18,
   "metadata": {
    "colab": {
     "base_uri": "https://localhost:8080/"
    },
    "executionInfo": {
     "elapsed": 8,
     "status": "ok",
     "timestamp": 1756078251950,
     "user": {
      "displayName": "Sungmin Han",
      "userId": "16133717747299446002"
     },
     "user_tz": -540
    },
    "id": "c_SrNO3q4inV",
    "outputId": "5b913feb-2107-42e9-a454-d32a6f80c703"
   },
   "outputs": [
    {
     "name": "stdout",
     "output_type": "stream",
     "text": [
      "\n",
      "--- 두 번째 시도 (과업: 15가 소수인지 판별) ---\n",
      "  [도구 실행: is_prime_tool(15)]\n",
      "  [도구 실행: code_interpreter('for i in range(2, int(15**0.5)+1):\\n    if 15 % i == 0:\\n        print('Factor found')')]\n",
      "\n",
      "--- 최종 결과 ---\n",
      "15는 3과 5로 나누어지므로 소수가 아닙니다.\n",
      "------------------------------\n"
     ]
    }
   ],
   "source": [
    "# 두 번째 시도\n",
    "print(\"\\n--- 두 번째 시도 (과업: 15가 소수인지 판별) ---\")\n",
    "trajectory_2, result_2 = run_agent(\"15가 소수인지 판별하고 최종 결론을 내리세요.\")\n",
    "print(\"\\n--- 최종 결과 ---\")\n",
    "print(result_2)\n",
    "print(\"-\" * 30)"
   ]
  },
  {
   "cell_type": "code",
   "execution_count": 7,
   "metadata": {
    "executionInfo": {
     "elapsed": 2,
     "status": "ok",
     "timestamp": 1756078055730,
     "user": {
      "displayName": "Sungmin Han",
      "userId": "16133717747299446002"
     },
     "user_tz": -540
    },
    "id": "ey00iQBhZzBc"
   },
   "outputs": [],
   "source": []
  }
 ],
 "metadata": {
  "colab": {
   "authorship_tag": "ABX9TyPiI8O57H76Qny5fyRcEm9G",
   "provenance": []
  },
  "kernelspec": {
   "display_name": "Python 3",
   "name": "python3"
  },
  "language_info": {
   "name": "python"
  }
 },
 "nbformat": 4,
 "nbformat_minor": 0
}
