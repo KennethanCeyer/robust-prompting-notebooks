{
  "cells": [
    {
      "cell_type": "markdown",
      "metadata": {},
      "source": [
        "**Colab Link URL**\n",
        "- https://colab.research.google.com/drive/11IfX1aTmv2BPcWM_hgkCrkCxKz9tlsxA?usp=sharing\n",
        "\n",
        "이 노트북은 [Google Colab](https://colab.research.google.com/)에서 실행하시기에 최적화되어있습니다.\n",
        "상기 URL을 이용해서 코드를 실행 해보세요."
      ]
    },
    {
      "cell_type": "code",
      "execution_count": 1,
      "metadata": {
        "executionInfo": {
          "elapsed": 2314,
          "status": "ok",
          "timestamp": 1756076717747,
          "user": {
            "displayName": "Sungmin Han",
            "userId": "16133717747299446002"
          },
          "user_tz": -540
        },
        "id": "h8oLa_dMSJHL"
      },
      "outputs": [],
      "source": [
        "from openai import OpenAI\n",
        "from google.colab import userdata"
      ]
    },
    {
      "cell_type": "code",
      "execution_count": 2,
      "metadata": {
        "executionInfo": {
          "elapsed": 1317,
          "status": "ok",
          "timestamp": 1756076719061,
          "user": {
            "displayName": "Sungmin Han",
            "userId": "16133717747299446002"
          },
          "user_tz": -540
        },
        "id": "ZnExs3saU9xP"
      },
      "outputs": [],
      "source": [
        "OPENAI_API_KEY = userdata.get(\"OPENAI_API_KEY\")\n",
        "if not OPENAI_API_KEY:\n",
        "    raise ValueError(\n",
        "        \"Colab 보안 비밀에 'OPENAI_API_KEY'가 설정되지 않았습니다. 키를 추가해주세요.\"\n",
        "    )\n",
        "client = OpenAI(api_key=OPENAI_API_KEY)"
      ]
    },
    {
      "cell_type": "code",
      "execution_count": 3,
      "metadata": {
        "executionInfo": {
          "elapsed": 11,
          "status": "ok",
          "timestamp": 1756076719073,
          "user": {
            "displayName": "Sungmin Han",
            "userId": "16133717747299446002"
          },
          "user_tz": -540
        },
        "id": "7yHFmf8wU_cR"
      },
      "outputs": [],
      "source": [
        "def call_llm(prompt: str, model: str = \"gpt-5-mini\") -> str:\n",
        "    \"\"\"LLM API를 호출하는 헬퍼 함수\"\"\"\n",
        "    if not client:\n",
        "        return \"오류: OpenAI 클라이언트가 초기화되지 않았습니다.\"\n",
        "\n",
        "    messages = [{\"role\": \"user\", \"content\": prompt}]\n",
        "    try:\n",
        "        response = client.chat.completions.create(\n",
        "            model=model,\n",
        "            messages=messages,\n",
        "        )\n",
        "        return response.choices[0].message.content\n",
        "    except Exception as e:\n",
        "        return f\"오류: API 호출 중 문제가 발생했습니다 - {e}\""
      ]
    },
    {
      "cell_type": "code",
      "execution_count": 4,
      "metadata": {
        "executionInfo": {
          "elapsed": 15,
          "status": "ok",
          "timestamp": 1756076719095,
          "user": {
            "displayName": "Sungmin Han",
            "userId": "16133717747299446002"
          },
          "user_tz": -540
        },
        "id": "zIU8BiWhVMOa"
      },
      "outputs": [],
      "source": [
        "def summarize_document(document_text: str) -> str:\n",
        "    \"\"\"링크 1: 문서를 요약하는 함수\"\"\"\n",
        "    prompt = f\"\"\"다음 기술 문서를 세 문장으로 간결하게 요약해주세요. 기술 용어는 최대한 유지하되, 전체적인 의미가 명확하게 전달되어야 합니다.\n",
        "\n",
        "[원본 문서]\n",
        "{document_text}\n",
        "\n",
        "[요약문]\n",
        "\"\"\"\n",
        "    print(\"--- 링크 1: 문서 요약 실행 ---\")\n",
        "    summary = call_llm(prompt)\n",
        "    print(f\"생성된 요약: {summary}\\n\")\n",
        "    return summary"
      ]
    },
    {
      "cell_type": "code",
      "execution_count": 5,
      "metadata": {
        "executionInfo": {
          "elapsed": 7,
          "status": "ok",
          "timestamp": 1756076719104,
          "user": {
            "displayName": "Sungmin Han",
            "userId": "16133717747299446002"
          },
          "user_tz": -540
        },
        "id": "Z4yhHYcH236E"
      },
      "outputs": [],
      "source": [
        "def create_presentation_script(summary: str) -> str:\n",
        "    \"\"\"링크 2: 요약문을 바탕으로 발표 스크립트를 작성하는 함수\"\"\"\n",
        "    prompt = f\"\"\"다음 요약문을 바탕으로, IT 기술에 익숙하지 않은 비즈니스팀을 위한 1분 발표 스크립트를 작성해주세요. 친근하고 이해하기 쉬운 비유를 사용하고, 이 기술이 왜 비즈니스에 중요한지를 강조해주세요.\n",
        "\n",
        "[회의 요약문]\n",
        "{summary}\n",
        "\n",
        "[발표 스크립트]\n",
        "\"\"\"\n",
        "    print(\"--- 링크 2: 발표 스크립트 작성 실행 ---\")\n",
        "    script = call_llm(prompt)\n",
        "    print(f\"생성된 스크립트: {script}\\n\")\n",
        "    return script"
      ]
    },
    {
      "cell_type": "code",
      "execution_count": 6,
      "metadata": {
        "executionInfo": {
          "elapsed": 77,
          "status": "ok",
          "timestamp": 1756076719188,
          "user": {
            "displayName": "Sungmin Han",
            "userId": "16133717747299446002"
          },
          "user_tz": -540
        },
        "id": "VyxbqztA3-Tj"
      },
      "outputs": [],
      "source": [
        "def extract_keywords(script: str) -> str:\n",
        "    \"\"\"링크 3: 스크립트에서 핵심 키워드를 추출하는 함수\"\"\"\n",
        "    prompt = f\"\"\"다음 발표 스크립트에서 청중이 반드시 기억해야 할 가장 중요한 핵심 키워드 5개를 쉼표(,)로 구분하여 나열해주세요.\n",
        "\n",
        "[발표 스크립트 전문]\n",
        "{script}\n",
        "\n",
        "[핵심 키워드 5개]\n",
        "\"\"\"\n",
        "    print(\"--- 링크 3: 핵심 키워드 추출 실행 ---\")\n",
        "    keywords = call_llm(prompt)\n",
        "    print(f\"추출된 키워드: {keywords}\\n\")\n",
        "    return keywords"
      ]
    },
    {
      "cell_type": "code",
      "execution_count": 7,
      "metadata": {
        "colab": {
          "base_uri": "https://localhost:8080/"
        },
        "executionInfo": {
          "elapsed": 30944,
          "status": "ok",
          "timestamp": 1756076750138,
          "user": {
            "displayName": "Sungmin Han",
            "userId": "16133717747299446002"
          },
          "user_tz": -540
        },
        "id": "NlOaDMN9VNo8",
        "outputId": "b5dcb874-5df2-46dc-b319-c61688ca94ed"
      },
      "outputs": [
        {
          "name": "stdout",
          "output_type": "stream",
          "text": [
            "--- 링크 1: 문서 요약 실행 ---\n",
            "생성된 요약: RAG(Retrieval-Augmented Generation)는 LLM의 할루시네이션을 줄이고 답변 근거를 외부의 최신 정보에 두기 위한 아키텍처입니다. 사용자의 질문이 들어오면 LLM이 바로 생성하지 않고 벡터 데이터베이스 등 외부 지식 소스에서 관련 문서를 실시간으로 검색(Retrieve)한 후, 검색된 문서를 원질문과 함께 프롬프트에 포함해 LLM에 전달합니다. 이렇게 외부 문서를 바탕으로 답변을 생성(Generate)하면 시의성 부족과 부정확성 문제를 완화하고 출처를 명시해 신뢰도를 높일 수 있습니다.\n",
            "\n",
            "--- 링크 2: 발표 스크립트 작성 실행 ---\n",
            "생성된 스크립트: 안녕하세요. 잠깐만 귀 기울여 주세요 — AI가 가끔 ‘지어낸’ 답을 할 때 당황하셨죠? RAG는 그 문제를 해결해주는 일종의 ‘사서’입니다. \n",
            "\n",
            "사용자가 질문하면 AI가 바로 답을 만들지 않고, 먼저 사서가 도서관(벡터 데이터베이스나 외부 문서)에서 최신 관련 자료를 찾아옵니다. 그 자료를 함께 보여주면 AI는 근거 있는 답을 만듭니다. 결과적으로 옛날 정보나 틀린 얘기(할루시네이션)가 줄고, 어디서 근거를 가져왔는지도 알려줘 신뢰도가 올라갑니다.\n",
            "\n",
            "비즈니스 측면에서 왜 중요하냐면요: 고객응대와 보고서, 의사결정에 정확하고 최신 정보가 들어가면 실수와 리스크가 줄고, 신뢰가 쌓이며 속도도 빨라집니다. 예를 들어 고객 문의에 근거를 붙여 빠르게 답하면 CS 만족도가 오르고 재작업이 줄죠.\n",
            "\n",
            "한 문장으로 정리하면: RAG는 AI에게 ‘믿을 수 있는 참고자료’를 건네줘 우리 비즈니스의 정확성과 신뢰를 높여주는 기술입니다. 감사합니다.\n",
            "\n",
            "--- 링크 3: 핵심 키워드 추출 실행 ---\n",
            "추출된 키워드: RAG, 벡터 데이터베이스, 근거 기반 응답, 할루시네이션 감소, 신뢰도 향상\n",
            "\n",
            "========================================\n",
            "프롬프트 체인 실행 완료\n",
            "최종적으로 추출된 핵심 키워드는 다음과 같습니다:\n",
            "RAG, 벡터 데이터베이스, 근거 기반 응답, 할루시네이션 감소, 신뢰도 향상\n",
            "========================================\n"
          ]
        }
      ],
      "source": [
        "# --- 프롬프트 체인 실행 ---\n",
        "\n",
        "# 1. 초기 입력 데이터 (기술 문서)\n",
        "original_document = \"\"\"\n",
        "검색 증강 생성(Retrieval-Augmented Generation, RAG)은 대규모 언어 모델(LLM)의 할루시네이션(환각) 현상을 줄이고, 답변의 근거를 외부의 최신 정보에 두기 위한 강력한 아키텍처이다. RAG는 사용자의 질문이 들어오면 LLM이 바로 답변을 생성하는 것이 아니라, 먼저 외부 지식 소스(예: 벡터 데이터베이스)에서 질문과 관련성 높은 문서를 실시간으로 검색(Retrieve)한다. 그런 다음, 검색된 최신 문서를 원래의 질문과 함께 프롬프트에 포함하여 LLM에게 전달함으로써, 모델이 외부의 사실적 근거를 바탕으로 답변을 생성(Generate)하도록 유도한다. 이 방식은 LLM의 내부 학습 데이터가 특정 시점에 고정되어 발생하는 정보의 시의성 부족과 부정확성 문제를 효과적으로 해결하며, 답변의 출처를 명시할 수 있어 신뢰도를 높인다.\n",
        "\"\"\"\n",
        "\n",
        "# 2. 체인 순차 실행: 한 함수의 출력이 다음 함수의 입력으로 연결된다.\n",
        "summary_output = summarize_document(original_document)\n",
        "script_output = create_presentation_script(summary_output)\n",
        "keywords_output = extract_keywords(script_output)\n",
        "\n",
        "# 3. 최종 결과 출력\n",
        "print(\"========================================\")\n",
        "print(\"프롬프트 체인 실행 완료\")\n",
        "print(f\"최종적으로 추출된 핵심 키워드는 다음과 같습니다:\")\n",
        "print(f\"{keywords_output}\")\n",
        "print(\"========================================\")"
      ]
    },
    {
      "cell_type": "code",
      "execution_count": 7,
      "metadata": {
        "executionInfo": {
          "elapsed": 4,
          "status": "ok",
          "timestamp": 1756076750139,
          "user": {
            "displayName": "Sungmin Han",
            "userId": "16133717747299446002"
          },
          "user_tz": -540
        },
        "id": "PoVN_A5AC9nB"
      },
      "outputs": [],
      "source": []
    }
  ],
  "metadata": {
    "colab": {
      "authorship_tag": "ABX9TyN05kT5Nt3dRrlyoaIaHRI9",
      "provenance": []
    },
    "kernelspec": {
      "display_name": "Python 3",
      "name": "python3"
    },
    "language_info": {
      "name": "python"
    }
  },
  "nbformat": 4,
  "nbformat_minor": 0
}
