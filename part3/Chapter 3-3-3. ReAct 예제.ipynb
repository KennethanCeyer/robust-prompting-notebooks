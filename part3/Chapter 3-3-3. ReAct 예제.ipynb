{
 "cells": [
  {
   "cell_type": "markdown",
   "metadata": {},
   "source": [
    "**Colab Link URL**\n",
    "- https://colab.research.google.com/drive/1UstpecwxBBYrfP6lLKAB-ygsIKmkRp5W?usp=sharing\n",
    "\n",
    "이 노트북은 [Google Colab](https://colab.research.google.com/)에서 실행하시기에 최적화되어있습니다.\n",
    "상기 URL을 이용해서 코드를 실행 해보세요."
   ]
  },
  {
   "cell_type": "code",
   "execution_count": 1,
   "metadata": {
    "executionInfo": {
     "elapsed": 42,
     "status": "ok",
     "timestamp": 1756076970862,
     "user": {
      "displayName": "Sungmin Han",
      "userId": "16133717747299446002"
     },
     "user_tz": -540
    },
    "id": "DJij1CkI0urN"
   },
   "outputs": [],
   "source": [
    "import re\n",
    "from datetime import datetime"
   ]
  },
  {
   "cell_type": "code",
   "execution_count": 2,
   "metadata": {
    "executionInfo": {
     "elapsed": 5,
     "status": "ok",
     "timestamp": 1756076970864,
     "user": {
      "displayName": "Sungmin Han",
      "userId": "16133717747299446002"
     },
     "user_tz": -540
    },
    "id": "JrZWAy5Y0v8H"
   },
   "outputs": [],
   "source": [
    "# --- 도구(Tool) 시뮬레이션 ---\n",
    "def get_current_weather(location: str) -> str:\n",
    "    \"\"\"날씨 API를 시뮬레이션하는 함수\"\"\"\n",
    "\n",
    "    print(f\"  [도구 실행: 날씨 API('{location}') 호출]\")\n",
    "    if \"서울\" in location:\n",
    "        return f\"{location}의 현재 기온은 25도, 날씨는 맑음입니다.\"\n",
    "    elif \"부산\" in location:\n",
    "        return f\"{location}의 현재 기온은 28도, 날씨는 구름 많음입니다.\"\n",
    "    else:\n",
    "        return f\"{location}의 날씨 정보를 찾을 수 없습니다.\""
   ]
  },
  {
   "cell_type": "code",
   "execution_count": 3,
   "metadata": {
    "executionInfo": {
     "elapsed": 72,
     "status": "ok",
     "timestamp": 1756076970932,
     "user": {
      "displayName": "Sungmin Han",
      "userId": "16133717747299446002"
     },
     "user_tz": -540
    },
    "id": "ZnExs3saU9xP"
   },
   "outputs": [],
   "source": [
    "def calculator(expression: str) -> str:\n",
    "    \"\"\"계산기 도구를 시뮬레이션하는 함수\"\"\"\n",
    "    print(f\"  [도구 실행: 계산기('{expression}') 호출]\")\n",
    "    try:\n",
    "        # 간단한 수식만 처리 (eval은 실제 사용 시 보안에 유의해야 함)\n",
    "        result = eval(expression)\n",
    "        return f\"계산 결과는 {result}입니다.\"\n",
    "    except Exception as e:\n",
    "        return f\"계산 중 오류 발생: {e}\""
   ]
  },
  {
   "cell_type": "code",
   "execution_count": 4,
   "metadata": {
    "executionInfo": {
     "elapsed": 2,
     "status": "ok",
     "timestamp": 1756076970934,
     "user": {
      "displayName": "Sungmin Han",
      "userId": "16133717747299446002"
     },
     "user_tz": -540
    },
    "id": "7yHFmf8wU_cR"
   },
   "outputs": [],
   "source": [
    "# --- ReAct 루프 시뮬레이션 ---\n",
    "def react_agent_simulation(question: str):\n",
    "    \"\"\"ReAct 에이전트의 작동을 시뮬레이션하는 함수\"\"\"\n",
    "    # LLM이 생성할 사고와 행동을 미리 정의 (시뮬레이션을 위해)\n",
    "    simulated_llm_outputs = [\n",
    "        \"사고: 사용자가 서울과 부산 두 도시의 날씨와 기온 차이를 묻고 있습니다. 먼저 서울의 날씨를 확인해야 합니다.\\n행동: 날씨API[서울]\",\n",
    "        \"사고: 서울의 기온이 25도인 것을 확인했습니다. 이제 부산의 날씨를 확인해야 합니다.\\n행동: 날씨API[부산]\",\n",
    "        \"사고: 서울은 25도, 부산은 28도인 것을 확인했습니다. 두 도시의 기온 차이를 계산해야 합니다.\\n행동: 계산기[28-25]\",\n",
    "        \"사고: 서울과 부산의 날씨, 그리고 기온 차이 계산 결과까지 모든 정보를 얻었습니다. 이제 종합하여 최종 답변을 할 수 있습니다.\\n행동: Finish[오늘 서울의 날씨는 맑고 기온은 25도이며, 부산의 날씨는 구름 많음입니다. 따라서 두 도시의 기온 차이는 3도입니다.]\"\n",
    "    ]\n",
    "\n",
    "    prompt_history = f\"질문: {question}\\n\"\n",
    "\n",
    "    for i, llm_output in enumerate(simulated_llm_outputs):\n",
    "        print(f\"\\n--- 턴 {i + 1} ---\")\n",
    "        prompt_history += f\"{llm_output}\\n\"\n",
    "        print(\"--- LLM에 전달되는 현재까지의 프롬프트 ---\")\n",
    "        print(prompt_history)\n",
    "        print(\"-\" * 20)\n",
    "\n",
    "        # LLM의 출력에서 행동 파싱\n",
    "        action_match = re.search(r\"행동: (.*?)$\", llm_output)\n",
    "        if not action_match:\n",
    "            continue\n",
    "\n",
    "        action = action_match.group(1).strip()\n",
    "\n",
    "        # 행동 실행 및 관찰 결과 생성\n",
    "        if action.startswith(\"날씨API\"):\n",
    "            location = action[len(\"날씨API[\"):-1]\n",
    "            observation = get_current_weather(location)\n",
    "        elif action.startswith(\"계산기\"):\n",
    "            expression = action[len(\"계산기[\"):-1]\n",
    "            observation = calculator(expression)\n",
    "        elif action.startswith(\"Finish\"):\n",
    "            final_answer = action[len(\"Finish[\"):-1]\n",
    "            print(\"\\n========================================\")\n",
    "            print(\"최종 답변 도출 완료\")\n",
    "            print(f\"{final_answer}\")\n",
    "            print(\"========================================\")\n",
    "            return\n",
    "        else:\n",
    "            observation = \"알 수 없는 행동입니다.\"\n",
    "\n",
    "        prompt_history += f\"관찰: {observation}\\n\""
   ]
  },
  {
   "cell_type": "code",
   "execution_count": 5,
   "metadata": {
    "colab": {
     "base_uri": "https://localhost:8080/"
    },
    "executionInfo": {
     "elapsed": 11,
     "status": "ok",
     "timestamp": 1756076970945,
     "user": {
      "displayName": "Sungmin Han",
      "userId": "16133717747299446002"
     },
     "user_tz": -540
    },
    "id": "VyxbqztA3-Tj",
    "outputId": "97fe4ec8-7ef3-4253-eb6a-84f3c9355652"
   },
   "outputs": [
    {
     "name": "stdout",
     "output_type": "stream",
     "text": [
      "\n",
      "--- 턴 1 ---\n",
      "--- LLM에 전달되는 현재까지의 프롬프트 ---\n",
      "질문: 오늘 서울과 부산의 날씨는 어떤가요? 그리고 두 도시의 기온 차이는 몇 도입니까?\n",
      "사고: 사용자가 서울과 부산 두 도시의 날씨와 기온 차이를 묻고 있습니다. 먼저 서울의 날씨를 확인해야 합니다.\n",
      "행동: 날씨API[서울]\n",
      "\n",
      "--------------------\n",
      "  [도구 실행: 날씨 API('서울') 호출]\n",
      "\n",
      "--- 턴 2 ---\n",
      "--- LLM에 전달되는 현재까지의 프롬프트 ---\n",
      "질문: 오늘 서울과 부산의 날씨는 어떤가요? 그리고 두 도시의 기온 차이는 몇 도입니까?\n",
      "사고: 사용자가 서울과 부산 두 도시의 날씨와 기온 차이를 묻고 있습니다. 먼저 서울의 날씨를 확인해야 합니다.\n",
      "행동: 날씨API[서울]\n",
      "관찰: 서울의 현재 기온은 25도, 날씨는 맑음입니다.\n",
      "사고: 서울의 기온이 25도인 것을 확인했습니다. 이제 부산의 날씨를 확인해야 합니다.\n",
      "행동: 날씨API[부산]\n",
      "\n",
      "--------------------\n",
      "  [도구 실행: 날씨 API('부산') 호출]\n",
      "\n",
      "--- 턴 3 ---\n",
      "--- LLM에 전달되는 현재까지의 프롬프트 ---\n",
      "질문: 오늘 서울과 부산의 날씨는 어떤가요? 그리고 두 도시의 기온 차이는 몇 도입니까?\n",
      "사고: 사용자가 서울과 부산 두 도시의 날씨와 기온 차이를 묻고 있습니다. 먼저 서울의 날씨를 확인해야 합니다.\n",
      "행동: 날씨API[서울]\n",
      "관찰: 서울의 현재 기온은 25도, 날씨는 맑음입니다.\n",
      "사고: 서울의 기온이 25도인 것을 확인했습니다. 이제 부산의 날씨를 확인해야 합니다.\n",
      "행동: 날씨API[부산]\n",
      "관찰: 부산의 현재 기온은 28도, 날씨는 구름 많음입니다.\n",
      "사고: 서울은 25도, 부산은 28도인 것을 확인했습니다. 두 도시의 기온 차이를 계산해야 합니다.\n",
      "행동: 계산기[28-25]\n",
      "\n",
      "--------------------\n",
      "  [도구 실행: 계산기('28-25') 호출]\n",
      "\n",
      "--- 턴 4 ---\n",
      "--- LLM에 전달되는 현재까지의 프롬프트 ---\n",
      "질문: 오늘 서울과 부산의 날씨는 어떤가요? 그리고 두 도시의 기온 차이는 몇 도입니까?\n",
      "사고: 사용자가 서울과 부산 두 도시의 날씨와 기온 차이를 묻고 있습니다. 먼저 서울의 날씨를 확인해야 합니다.\n",
      "행동: 날씨API[서울]\n",
      "관찰: 서울의 현재 기온은 25도, 날씨는 맑음입니다.\n",
      "사고: 서울의 기온이 25도인 것을 확인했습니다. 이제 부산의 날씨를 확인해야 합니다.\n",
      "행동: 날씨API[부산]\n",
      "관찰: 부산의 현재 기온은 28도, 날씨는 구름 많음입니다.\n",
      "사고: 서울은 25도, 부산은 28도인 것을 확인했습니다. 두 도시의 기온 차이를 계산해야 합니다.\n",
      "행동: 계산기[28-25]\n",
      "관찰: 계산 결과는 3입니다.\n",
      "사고: 서울과 부산의 날씨, 그리고 기온 차이 계산 결과까지 모든 정보를 얻었습니다. 이제 종합하여 최종 답변을 할 수 있습니다.\n",
      "행동: Finish[오늘 서울의 날씨는 맑고 기온은 25도이며, 부산의 날씨는 구름 많음입니다. 따라서 두 도시의 기온 차이는 3도입니다.]\n",
      "\n",
      "--------------------\n",
      "\n",
      "========================================\n",
      "최종 답변 도출 완료\n",
      "오늘 서울의 날씨는 맑고 기온은 25도이며, 부산의 날씨는 구름 많음입니다. 따라서 두 도시의 기온 차이는 3도입니다.\n",
      "========================================\n"
     ]
    }
   ],
   "source": [
    "# --- 에이전트 실행 ---\n",
    "react_agent_simulation(\"오늘 서울과 부산의 날씨는 어떤가요? 그리고 두 도시의 기온 차이는 몇 도입니까?\")"
   ]
  },
  {
   "cell_type": "code",
   "execution_count": 5,
   "metadata": {
    "executionInfo": {
     "elapsed": 59,
     "status": "ok",
     "timestamp": 1756076971005,
     "user": {
      "displayName": "Sungmin Han",
      "userId": "16133717747299446002"
     },
     "user_tz": -540
    },
    "id": "eTLMsbU03AJh"
   },
   "outputs": [],
   "source": []
  }
 ],
 "metadata": {
  "colab": {
   "authorship_tag": "ABX9TyP6X87fADJXnUXsH4NBnSo4",
   "provenance": []
  },
  "kernelspec": {
   "display_name": "Python 3",
   "name": "python3"
  },
  "language_info": {
   "name": "python"
  }
 },
 "nbformat": 4,
 "nbformat_minor": 0
}
